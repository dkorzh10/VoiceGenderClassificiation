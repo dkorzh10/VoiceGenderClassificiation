{
 "cells": [
  {
   "cell_type": "code",
   "execution_count": 1,
   "metadata": {},
   "outputs": [],
   "source": [
    "from sklearn.preprocessing import LabelEncoder\n",
    "from torch.utils.data import Dataset, DataLoader\n",
    "import torch.nn as nn\n",
    "import torch\n",
    "\n",
    "import torch\n",
    "from sklearn.model_selection import train_test_split\n",
    "from sklearn.preprocessing import LabelEncoder\n",
    "\n",
    "import numpy as np\n",
    "import pandas as pd\n",
    "import librosa\n",
    "import time\n",
    "import matplotlib.pyplot as plt\n",
    "import copy\n",
    "import os\n",
    "from tqdm import tqdm"
   ]
  },
  {
   "cell_type": "code",
   "execution_count": 2,
   "metadata": {},
   "outputs": [],
   "source": [
    "# dataset downoloading\n",
    "#!gdown --id 1pZ7YYCNPUhjlj2aKX24gNlhxZ3ctx6k1"
   ]
  },
  {
   "cell_type": "code",
   "execution_count": 3,
   "metadata": {},
   "outputs": [],
   "source": [
    "# !tar -xvf cv-corpus-7.0-2021-07-21-ru.tar.gz"
   ]
  },
  {
   "cell_type": "code",
   "execution_count": null,
   "metadata": {},
   "outputs": [],
   "source": [
    "# не обязательно устанавливать speechbrain, так как не стал применять"
   ]
  },
  {
   "cell_type": "code",
   "execution_count": 2,
   "metadata": {},
   "outputs": [],
   "source": [
    "# !pip install speechbrain"
   ]
  },
  {
   "cell_type": "code",
   "execution_count": 3,
   "metadata": {},
   "outputs": [],
   "source": [
    "# !git clone https://github.com/speechbrain/speechbrain.git"
   ]
  },
  {
   "cell_type": "code",
   "execution_count": 4,
   "metadata": {
    "scrolled": true
   },
   "outputs": [],
   "source": [
    "# %cd speechbrain"
   ]
  },
  {
   "cell_type": "code",
   "execution_count": 5,
   "metadata": {},
   "outputs": [],
   "source": [
    "# !pip install packaging==20.9\n",
    "# !pip install zipp==3.1.0\n",
    "# !pip install filelock==3.2"
   ]
  },
  {
   "cell_type": "code",
   "execution_count": 6,
   "metadata": {},
   "outputs": [],
   "source": [
    "# %pip install -r requirements.txt"
   ]
  },
  {
   "cell_type": "code",
   "execution_count": 7,
   "metadata": {},
   "outputs": [],
   "source": [
    "# pip install --editable ."
   ]
  },
  {
   "cell_type": "code",
   "execution_count": 8,
   "metadata": {},
   "outputs": [],
   "source": [
    "# import speechbrain as sb"
   ]
  },
  {
   "cell_type": "code",
   "execution_count": 20,
   "metadata": {},
   "outputs": [
    {
     "name": "stdout",
     "output_type": "stream",
     "text": [
      "/workspace/raid/data/dkorzh/TERM 7/TinkSpeech\n"
     ]
    }
   ],
   "source": [
    "# %cd .."
   ]
  },
  {
   "cell_type": "markdown",
   "metadata": {},
   "source": [
    "# Data preproccessing"
   ]
  },
  {
   "cell_type": "code",
   "execution_count": 4,
   "metadata": {},
   "outputs": [
    {
     "data": {
      "text/html": [
       "<div>\n",
       "<style scoped>\n",
       "    .dataframe tbody tr th:only-of-type {\n",
       "        vertical-align: middle;\n",
       "    }\n",
       "\n",
       "    .dataframe tbody tr th {\n",
       "        vertical-align: top;\n",
       "    }\n",
       "\n",
       "    .dataframe thead th {\n",
       "        text-align: right;\n",
       "    }\n",
       "</style>\n",
       "<table border=\"1\" class=\"dataframe\">\n",
       "  <thead>\n",
       "    <tr style=\"text-align: right;\">\n",
       "      <th></th>\n",
       "      <th>client_id</th>\n",
       "      <th>path</th>\n",
       "      <th>sentence</th>\n",
       "      <th>up_votes</th>\n",
       "      <th>down_votes</th>\n",
       "      <th>age</th>\n",
       "      <th>gender</th>\n",
       "      <th>accent</th>\n",
       "      <th>locale</th>\n",
       "      <th>segment</th>\n",
       "    </tr>\n",
       "  </thead>\n",
       "  <tbody>\n",
       "    <tr>\n",
       "      <th>0</th>\n",
       "      <td>119124394354a868c8f5bc2b09616c27f7521a639b06bd...</td>\n",
       "      <td>common_voice_ru_21949650.mp3</td>\n",
       "      <td>Теперь слово предоставляется Генеральному секр...</td>\n",
       "      <td>2</td>\n",
       "      <td>0</td>\n",
       "      <td>teens</td>\n",
       "      <td>male</td>\n",
       "      <td>NaN</td>\n",
       "      <td>ru</td>\n",
       "      <td>NaN</td>\n",
       "    </tr>\n",
       "    <tr>\n",
       "      <th>1</th>\n",
       "      <td>119124394354a868c8f5bc2b09616c27f7521a639b06bd...</td>\n",
       "      <td>common_voice_ru_21949651.mp3</td>\n",
       "      <td>В португальском языке такие слова, как жизнь, ...</td>\n",
       "      <td>2</td>\n",
       "      <td>0</td>\n",
       "      <td>teens</td>\n",
       "      <td>male</td>\n",
       "      <td>NaN</td>\n",
       "      <td>ru</td>\n",
       "      <td>NaN</td>\n",
       "    </tr>\n",
       "    <tr>\n",
       "      <th>2</th>\n",
       "      <td>119124394354a868c8f5bc2b09616c27f7521a639b06bd...</td>\n",
       "      <td>common_voice_ru_21949693.mp3</td>\n",
       "      <td>За прошедший год значительно продвинулось суде...</td>\n",
       "      <td>2</td>\n",
       "      <td>0</td>\n",
       "      <td>teens</td>\n",
       "      <td>male</td>\n",
       "      <td>NaN</td>\n",
       "      <td>ru</td>\n",
       "      <td>NaN</td>\n",
       "    </tr>\n",
       "    <tr>\n",
       "      <th>3</th>\n",
       "      <td>119124394354a868c8f5bc2b09616c27f7521a639b06bd...</td>\n",
       "      <td>common_voice_ru_21949699.mp3</td>\n",
       "      <td>Я предоставляю слово наблюдателю от Святого Пр...</td>\n",
       "      <td>2</td>\n",
       "      <td>0</td>\n",
       "      <td>teens</td>\n",
       "      <td>male</td>\n",
       "      <td>NaN</td>\n",
       "      <td>ru</td>\n",
       "      <td>NaN</td>\n",
       "    </tr>\n",
       "    <tr>\n",
       "      <th>4</th>\n",
       "      <td>119124394354a868c8f5bc2b09616c27f7521a639b06bd...</td>\n",
       "      <td>common_voice_ru_21949704.mp3</td>\n",
       "      <td>Швейцария стала одним из ее авторов.</td>\n",
       "      <td>2</td>\n",
       "      <td>0</td>\n",
       "      <td>teens</td>\n",
       "      <td>male</td>\n",
       "      <td>NaN</td>\n",
       "      <td>ru</td>\n",
       "      <td>NaN</td>\n",
       "    </tr>\n",
       "  </tbody>\n",
       "</table>\n",
       "</div>"
      ],
      "text/plain": [
       "                                           client_id  \\\n",
       "0  119124394354a868c8f5bc2b09616c27f7521a639b06bd...   \n",
       "1  119124394354a868c8f5bc2b09616c27f7521a639b06bd...   \n",
       "2  119124394354a868c8f5bc2b09616c27f7521a639b06bd...   \n",
       "3  119124394354a868c8f5bc2b09616c27f7521a639b06bd...   \n",
       "4  119124394354a868c8f5bc2b09616c27f7521a639b06bd...   \n",
       "\n",
       "                           path  \\\n",
       "0  common_voice_ru_21949650.mp3   \n",
       "1  common_voice_ru_21949651.mp3   \n",
       "2  common_voice_ru_21949693.mp3   \n",
       "3  common_voice_ru_21949699.mp3   \n",
       "4  common_voice_ru_21949704.mp3   \n",
       "\n",
       "                                            sentence  up_votes  down_votes  \\\n",
       "0  Теперь слово предоставляется Генеральному секр...         2           0   \n",
       "1  В португальском языке такие слова, как жизнь, ...         2           0   \n",
       "2  За прошедший год значительно продвинулось суде...         2           0   \n",
       "3  Я предоставляю слово наблюдателю от Святого Пр...         2           0   \n",
       "4               Швейцария стала одним из ее авторов.         2           0   \n",
       "\n",
       "     age gender  accent locale  segment  \n",
       "0  teens   male     NaN     ru      NaN  \n",
       "1  teens   male     NaN     ru      NaN  \n",
       "2  teens   male     NaN     ru      NaN  \n",
       "3  teens   male     NaN     ru      NaN  \n",
       "4  teens   male     NaN     ru      NaN  "
      ]
     },
     "execution_count": 4,
     "metadata": {},
     "output_type": "execute_result"
    }
   ],
   "source": [
    "import pandas as pd\n",
    "\n",
    "df_train = pd.read_csv('./cv-corpus-7.0-2021-07-21/ru/train.tsv', sep='\\t')\n",
    "df_test = pd.read_csv('./cv-corpus-7.0-2021-07-21/ru/test.tsv', sep='\\t')\n",
    "df_train.head()"
   ]
  },
  {
   "cell_type": "code",
   "execution_count": 5,
   "metadata": {},
   "outputs": [],
   "source": [
    "df_train = df_train[['client_id','path','gender']]"
   ]
  },
  {
   "cell_type": "code",
   "execution_count": 6,
   "metadata": {},
   "outputs": [
    {
     "data": {
      "text/html": [
       "<div>\n",
       "<style scoped>\n",
       "    .dataframe tbody tr th:only-of-type {\n",
       "        vertical-align: middle;\n",
       "    }\n",
       "\n",
       "    .dataframe tbody tr th {\n",
       "        vertical-align: top;\n",
       "    }\n",
       "\n",
       "    .dataframe thead th {\n",
       "        text-align: right;\n",
       "    }\n",
       "</style>\n",
       "<table border=\"1\" class=\"dataframe\">\n",
       "  <thead>\n",
       "    <tr style=\"text-align: right;\">\n",
       "      <th></th>\n",
       "      <th>client_id</th>\n",
       "      <th>path</th>\n",
       "      <th>gender</th>\n",
       "    </tr>\n",
       "  </thead>\n",
       "  <tbody>\n",
       "    <tr>\n",
       "      <th>0</th>\n",
       "      <td>119124394354a868c8f5bc2b09616c27f7521a639b06bd...</td>\n",
       "      <td>common_voice_ru_21949650.mp3</td>\n",
       "      <td>male</td>\n",
       "    </tr>\n",
       "    <tr>\n",
       "      <th>1</th>\n",
       "      <td>119124394354a868c8f5bc2b09616c27f7521a639b06bd...</td>\n",
       "      <td>common_voice_ru_21949651.mp3</td>\n",
       "      <td>male</td>\n",
       "    </tr>\n",
       "    <tr>\n",
       "      <th>2</th>\n",
       "      <td>119124394354a868c8f5bc2b09616c27f7521a639b06bd...</td>\n",
       "      <td>common_voice_ru_21949693.mp3</td>\n",
       "      <td>male</td>\n",
       "    </tr>\n",
       "    <tr>\n",
       "      <th>3</th>\n",
       "      <td>119124394354a868c8f5bc2b09616c27f7521a639b06bd...</td>\n",
       "      <td>common_voice_ru_21949699.mp3</td>\n",
       "      <td>male</td>\n",
       "    </tr>\n",
       "    <tr>\n",
       "      <th>4</th>\n",
       "      <td>119124394354a868c8f5bc2b09616c27f7521a639b06bd...</td>\n",
       "      <td>common_voice_ru_21949704.mp3</td>\n",
       "      <td>male</td>\n",
       "    </tr>\n",
       "  </tbody>\n",
       "</table>\n",
       "</div>"
      ],
      "text/plain": [
       "                                           client_id  \\\n",
       "0  119124394354a868c8f5bc2b09616c27f7521a639b06bd...   \n",
       "1  119124394354a868c8f5bc2b09616c27f7521a639b06bd...   \n",
       "2  119124394354a868c8f5bc2b09616c27f7521a639b06bd...   \n",
       "3  119124394354a868c8f5bc2b09616c27f7521a639b06bd...   \n",
       "4  119124394354a868c8f5bc2b09616c27f7521a639b06bd...   \n",
       "\n",
       "                           path gender  \n",
       "0  common_voice_ru_21949650.mp3   male  \n",
       "1  common_voice_ru_21949651.mp3   male  \n",
       "2  common_voice_ru_21949693.mp3   male  \n",
       "3  common_voice_ru_21949699.mp3   male  \n",
       "4  common_voice_ru_21949704.mp3   male  "
      ]
     },
     "execution_count": 6,
     "metadata": {},
     "output_type": "execute_result"
    }
   ],
   "source": [
    "df_train.head()"
   ]
  },
  {
   "cell_type": "code",
   "execution_count": 7,
   "metadata": {},
   "outputs": [
    {
     "data": {
      "text/plain": [
       "client_id       0\n",
       "path            0\n",
       "gender       1372\n",
       "dtype: int64"
      ]
     },
     "execution_count": 7,
     "metadata": {},
     "output_type": "execute_result"
    }
   ],
   "source": [
    "df_train.isna().sum()"
   ]
  },
  {
   "cell_type": "code",
   "execution_count": 8,
   "metadata": {},
   "outputs": [
    {
     "data": {
      "text/plain": [
       "(17070, 3)"
      ]
     },
     "execution_count": 8,
     "metadata": {},
     "output_type": "execute_result"
    }
   ],
   "source": [
    "df_train.shape"
   ]
  },
  {
   "cell_type": "code",
   "execution_count": 9,
   "metadata": {},
   "outputs": [
    {
     "data": {
      "text/plain": [
       "male      13074\n",
       "female     2556\n",
       "other        68\n",
       "Name: gender, dtype: int64"
      ]
     },
     "execution_count": 9,
     "metadata": {},
     "output_type": "execute_result"
    }
   ],
   "source": [
    "df_train.gender.value_counts()"
   ]
  },
  {
   "cell_type": "markdown",
   "metadata": {},
   "source": [
    "**Есть заметный imbalance по gender-- возьмем все женские записи и 3000 рандомных мужских**"
   ]
  },
  {
   "cell_type": "code",
   "execution_count": 10,
   "metadata": {},
   "outputs": [
    {
     "data": {
      "text/plain": [
       "117"
      ]
     },
     "execution_count": 10,
     "metadata": {},
     "output_type": "execute_result"
    }
   ],
   "source": [
    "len(df_train.client_id.unique())"
   ]
  },
  {
   "cell_type": "markdown",
   "metadata": {},
   "source": [
    "**всего 117 спикеров**"
   ]
  },
  {
   "cell_type": "code",
   "execution_count": 11,
   "metadata": {},
   "outputs": [
    {
     "data": {
      "text/plain": [
       "client_id       0\n",
       "path            0\n",
       "gender       4572\n",
       "dtype: int64"
      ]
     },
     "execution_count": 11,
     "metadata": {},
     "output_type": "execute_result"
    }
   ],
   "source": [
    "df_test = df_test[['client_id','path','gender']]\n",
    "df_test.isna().sum()"
   ]
  },
  {
   "cell_type": "code",
   "execution_count": 12,
   "metadata": {},
   "outputs": [
    {
     "data": {
      "text/plain": [
       "(8425, 3)"
      ]
     },
     "execution_count": 12,
     "metadata": {},
     "output_type": "execute_result"
    }
   ],
   "source": [
    "df_test.shape"
   ]
  },
  {
   "cell_type": "code",
   "execution_count": 13,
   "metadata": {},
   "outputs": [
    {
     "data": {
      "text/plain": [
       "male      3185\n",
       "female     668\n",
       "Name: gender, dtype: int64"
      ]
     },
     "execution_count": 13,
     "metadata": {},
     "output_type": "execute_result"
    }
   ],
   "source": [
    "df_test.gender.value_counts()\n"
   ]
  },
  {
   "cell_type": "code",
   "execution_count": 14,
   "metadata": {},
   "outputs": [
    {
     "data": {
      "text/plain": [
       "117"
      ]
     },
     "execution_count": 14,
     "metadata": {},
     "output_type": "execute_result"
    }
   ],
   "source": [
    "a = set(df_train.client_id.unique())\n",
    "len(a)\n"
   ]
  },
  {
   "cell_type": "code",
   "execution_count": 15,
   "metadata": {},
   "outputs": [
    {
     "data": {
      "text/plain": [
       "1202"
      ]
     },
     "execution_count": 15,
     "metadata": {},
     "output_type": "execute_result"
    }
   ],
   "source": [
    "b = set(df_test.client_id.unique())\n",
    "len(b)\n"
   ]
  },
  {
   "cell_type": "markdown",
   "metadata": {},
   "source": [
    "**вот это хорошо, что много разных людей говорили в тесте**"
   ]
  },
  {
   "cell_type": "markdown",
   "metadata": {},
   "source": [
    "**делаем итоговые датасеты**"
   ]
  },
  {
   "cell_type": "code",
   "execution_count": 16,
   "metadata": {},
   "outputs": [
    {
     "data": {
      "text/html": [
       "<div>\n",
       "<style scoped>\n",
       "    .dataframe tbody tr th:only-of-type {\n",
       "        vertical-align: middle;\n",
       "    }\n",
       "\n",
       "    .dataframe tbody tr th {\n",
       "        vertical-align: top;\n",
       "    }\n",
       "\n",
       "    .dataframe thead th {\n",
       "        text-align: right;\n",
       "    }\n",
       "</style>\n",
       "<table border=\"1\" class=\"dataframe\">\n",
       "  <thead>\n",
       "    <tr style=\"text-align: right;\">\n",
       "      <th></th>\n",
       "      <th>client_id</th>\n",
       "      <th>path</th>\n",
       "      <th>gender</th>\n",
       "    </tr>\n",
       "  </thead>\n",
       "  <tbody>\n",
       "    <tr>\n",
       "      <th>306</th>\n",
       "      <td>bd7753ba89f42386c225ef69644e8dd39abba1f9aa3d57...</td>\n",
       "      <td>common_voice_ru_22685925.mp3</td>\n",
       "      <td>female</td>\n",
       "    </tr>\n",
       "    <tr>\n",
       "      <th>307</th>\n",
       "      <td>bd7753ba89f42386c225ef69644e8dd39abba1f9aa3d57...</td>\n",
       "      <td>common_voice_ru_22685955.mp3</td>\n",
       "      <td>female</td>\n",
       "    </tr>\n",
       "    <tr>\n",
       "      <th>308</th>\n",
       "      <td>bd7753ba89f42386c225ef69644e8dd39abba1f9aa3d57...</td>\n",
       "      <td>common_voice_ru_22685956.mp3</td>\n",
       "      <td>female</td>\n",
       "    </tr>\n",
       "    <tr>\n",
       "      <th>309</th>\n",
       "      <td>bd7753ba89f42386c225ef69644e8dd39abba1f9aa3d57...</td>\n",
       "      <td>common_voice_ru_22686010.mp3</td>\n",
       "      <td>female</td>\n",
       "    </tr>\n",
       "    <tr>\n",
       "      <th>310</th>\n",
       "      <td>bd7753ba89f42386c225ef69644e8dd39abba1f9aa3d57...</td>\n",
       "      <td>common_voice_ru_22686014.mp3</td>\n",
       "      <td>female</td>\n",
       "    </tr>\n",
       "  </tbody>\n",
       "</table>\n",
       "</div>"
      ],
      "text/plain": [
       "                                             client_id  \\\n",
       "306  bd7753ba89f42386c225ef69644e8dd39abba1f9aa3d57...   \n",
       "307  bd7753ba89f42386c225ef69644e8dd39abba1f9aa3d57...   \n",
       "308  bd7753ba89f42386c225ef69644e8dd39abba1f9aa3d57...   \n",
       "309  bd7753ba89f42386c225ef69644e8dd39abba1f9aa3d57...   \n",
       "310  bd7753ba89f42386c225ef69644e8dd39abba1f9aa3d57...   \n",
       "\n",
       "                             path  gender  \n",
       "306  common_voice_ru_22685925.mp3  female  \n",
       "307  common_voice_ru_22685955.mp3  female  \n",
       "308  common_voice_ru_22685956.mp3  female  \n",
       "309  common_voice_ru_22686010.mp3  female  \n",
       "310  common_voice_ru_22686014.mp3  female  "
      ]
     },
     "execution_count": 16,
     "metadata": {},
     "output_type": "execute_result"
    }
   ],
   "source": [
    "df_train_female = df_train[df_train.gender=='female'].copy()\n",
    "df_train_female.head()"
   ]
  },
  {
   "cell_type": "code",
   "execution_count": 17,
   "metadata": {},
   "outputs": [
    {
     "data": {
      "text/plain": [
       "(3000, 3)"
      ]
     },
     "execution_count": 17,
     "metadata": {},
     "output_type": "execute_result"
    }
   ],
   "source": [
    "df_train_male = df_train[df_train.gender=='male'].sample(3000).copy()\n",
    "df_train_male.shape"
   ]
  },
  {
   "cell_type": "code",
   "execution_count": 18,
   "metadata": {},
   "outputs": [
    {
     "data": {
      "text/plain": [
       "(5556, 3)"
      ]
     },
     "execution_count": 18,
     "metadata": {},
     "output_type": "execute_result"
    }
   ],
   "source": [
    "df_train = df_train_female.append(df_train_male)\n",
    "df_train.shape"
   ]
  },
  {
   "cell_type": "code",
   "execution_count": 19,
   "metadata": {},
   "outputs": [
    {
     "data": {
      "text/html": [
       "<div>\n",
       "<style scoped>\n",
       "    .dataframe tbody tr th:only-of-type {\n",
       "        vertical-align: middle;\n",
       "    }\n",
       "\n",
       "    .dataframe tbody tr th {\n",
       "        vertical-align: top;\n",
       "    }\n",
       "\n",
       "    .dataframe thead th {\n",
       "        text-align: right;\n",
       "    }\n",
       "</style>\n",
       "<table border=\"1\" class=\"dataframe\">\n",
       "  <thead>\n",
       "    <tr style=\"text-align: right;\">\n",
       "      <th></th>\n",
       "      <th>client_id</th>\n",
       "      <th>path</th>\n",
       "      <th>gender</th>\n",
       "    </tr>\n",
       "  </thead>\n",
       "  <tbody>\n",
       "    <tr>\n",
       "      <th>11152</th>\n",
       "      <td>bd4b753eeeedcc84cea162e32dd4fd94e4f52d5acdd5d2...</td>\n",
       "      <td>common_voice_ru_20838501.mp3</td>\n",
       "      <td>male</td>\n",
       "    </tr>\n",
       "    <tr>\n",
       "      <th>1287</th>\n",
       "      <td>b020a737f6071a746fbb5f85f3eec369ffb315bb66b625...</td>\n",
       "      <td>common_voice_ru_22161098.mp3</td>\n",
       "      <td>male</td>\n",
       "    </tr>\n",
       "    <tr>\n",
       "      <th>316</th>\n",
       "      <td>bd7753ba89f42386c225ef69644e8dd39abba1f9aa3d57...</td>\n",
       "      <td>common_voice_ru_22686115.mp3</td>\n",
       "      <td>female</td>\n",
       "    </tr>\n",
       "    <tr>\n",
       "      <th>333</th>\n",
       "      <td>bd7753ba89f42386c225ef69644e8dd39abba1f9aa3d57...</td>\n",
       "      <td>common_voice_ru_22704060.mp3</td>\n",
       "      <td>female</td>\n",
       "    </tr>\n",
       "    <tr>\n",
       "      <th>13817</th>\n",
       "      <td>299f0dd85f2861f679e92991dc15e9adbdcc7cb8ce7e6d...</td>\n",
       "      <td>common_voice_ru_18858660.mp3</td>\n",
       "      <td>male</td>\n",
       "    </tr>\n",
       "  </tbody>\n",
       "</table>\n",
       "</div>"
      ],
      "text/plain": [
       "                                               client_id  \\\n",
       "11152  bd4b753eeeedcc84cea162e32dd4fd94e4f52d5acdd5d2...   \n",
       "1287   b020a737f6071a746fbb5f85f3eec369ffb315bb66b625...   \n",
       "316    bd7753ba89f42386c225ef69644e8dd39abba1f9aa3d57...   \n",
       "333    bd7753ba89f42386c225ef69644e8dd39abba1f9aa3d57...   \n",
       "13817  299f0dd85f2861f679e92991dc15e9adbdcc7cb8ce7e6d...   \n",
       "\n",
       "                               path  gender  \n",
       "11152  common_voice_ru_20838501.mp3    male  \n",
       "1287   common_voice_ru_22161098.mp3    male  \n",
       "316    common_voice_ru_22686115.mp3  female  \n",
       "333    common_voice_ru_22704060.mp3  female  \n",
       "13817  common_voice_ru_18858660.mp3    male  "
      ]
     },
     "execution_count": 19,
     "metadata": {},
     "output_type": "execute_result"
    }
   ],
   "source": [
    "df_train = df_train.sample(frac=1)\n",
    "df_train.head()"
   ]
  },
  {
   "cell_type": "code",
   "execution_count": 27,
   "metadata": {},
   "outputs": [
    {
     "data": {
      "text/plain": [
       "client_id    0\n",
       "path         0\n",
       "gender       0\n",
       "dtype: int64"
      ]
     },
     "execution_count": 27,
     "metadata": {},
     "output_type": "execute_result"
    }
   ],
   "source": [
    "df_train.isna().sum()"
   ]
  },
  {
   "cell_type": "code",
   "execution_count": 20,
   "metadata": {},
   "outputs": [
    {
     "data": {
      "text/html": [
       "<div>\n",
       "<style scoped>\n",
       "    .dataframe tbody tr th:only-of-type {\n",
       "        vertical-align: middle;\n",
       "    }\n",
       "\n",
       "    .dataframe tbody tr th {\n",
       "        vertical-align: top;\n",
       "    }\n",
       "\n",
       "    .dataframe thead th {\n",
       "        text-align: right;\n",
       "    }\n",
       "</style>\n",
       "<table border=\"1\" class=\"dataframe\">\n",
       "  <thead>\n",
       "    <tr style=\"text-align: right;\">\n",
       "      <th></th>\n",
       "      <th>client_id</th>\n",
       "      <th>path</th>\n",
       "      <th>gender</th>\n",
       "    </tr>\n",
       "  </thead>\n",
       "  <tbody>\n",
       "    <tr>\n",
       "      <th>0</th>\n",
       "      <td>bd4b753eeeedcc84cea162e32dd4fd94e4f52d5acdd5d2...</td>\n",
       "      <td>common_voice_ru_20838501.mp3</td>\n",
       "      <td>male</td>\n",
       "    </tr>\n",
       "    <tr>\n",
       "      <th>1</th>\n",
       "      <td>b020a737f6071a746fbb5f85f3eec369ffb315bb66b625...</td>\n",
       "      <td>common_voice_ru_22161098.mp3</td>\n",
       "      <td>male</td>\n",
       "    </tr>\n",
       "    <tr>\n",
       "      <th>2</th>\n",
       "      <td>bd7753ba89f42386c225ef69644e8dd39abba1f9aa3d57...</td>\n",
       "      <td>common_voice_ru_22686115.mp3</td>\n",
       "      <td>female</td>\n",
       "    </tr>\n",
       "    <tr>\n",
       "      <th>3</th>\n",
       "      <td>bd7753ba89f42386c225ef69644e8dd39abba1f9aa3d57...</td>\n",
       "      <td>common_voice_ru_22704060.mp3</td>\n",
       "      <td>female</td>\n",
       "    </tr>\n",
       "    <tr>\n",
       "      <th>4</th>\n",
       "      <td>299f0dd85f2861f679e92991dc15e9adbdcc7cb8ce7e6d...</td>\n",
       "      <td>common_voice_ru_18858660.mp3</td>\n",
       "      <td>male</td>\n",
       "    </tr>\n",
       "  </tbody>\n",
       "</table>\n",
       "</div>"
      ],
      "text/plain": [
       "                                           client_id  \\\n",
       "0  bd4b753eeeedcc84cea162e32dd4fd94e4f52d5acdd5d2...   \n",
       "1  b020a737f6071a746fbb5f85f3eec369ffb315bb66b625...   \n",
       "2  bd7753ba89f42386c225ef69644e8dd39abba1f9aa3d57...   \n",
       "3  bd7753ba89f42386c225ef69644e8dd39abba1f9aa3d57...   \n",
       "4  299f0dd85f2861f679e92991dc15e9adbdcc7cb8ce7e6d...   \n",
       "\n",
       "                           path  gender  \n",
       "0  common_voice_ru_20838501.mp3    male  \n",
       "1  common_voice_ru_22161098.mp3    male  \n",
       "2  common_voice_ru_22686115.mp3  female  \n",
       "3  common_voice_ru_22704060.mp3  female  \n",
       "4  common_voice_ru_18858660.mp3    male  "
      ]
     },
     "execution_count": 20,
     "metadata": {},
     "output_type": "execute_result"
    }
   ],
   "source": [
    "df_train = df_train.reset_index(drop=True)\n",
    "df_train.head()"
   ]
  },
  {
   "cell_type": "code",
   "execution_count": 21,
   "metadata": {},
   "outputs": [
    {
     "data": {
      "text/html": [
       "<div>\n",
       "<style scoped>\n",
       "    .dataframe tbody tr th:only-of-type {\n",
       "        vertical-align: middle;\n",
       "    }\n",
       "\n",
       "    .dataframe tbody tr th {\n",
       "        vertical-align: top;\n",
       "    }\n",
       "\n",
       "    .dataframe thead th {\n",
       "        text-align: right;\n",
       "    }\n",
       "</style>\n",
       "<table border=\"1\" class=\"dataframe\">\n",
       "  <thead>\n",
       "    <tr style=\"text-align: right;\">\n",
       "      <th></th>\n",
       "      <th>client_id</th>\n",
       "      <th>path</th>\n",
       "      <th>gender</th>\n",
       "    </tr>\n",
       "  </thead>\n",
       "  <tbody>\n",
       "    <tr>\n",
       "      <th>0</th>\n",
       "      <td>bd4b753eeeedcc84cea162e32dd4fd94e4f52d5acdd5d2...</td>\n",
       "      <td>common_voice_ru_20838501.mp3</td>\n",
       "      <td>1</td>\n",
       "    </tr>\n",
       "    <tr>\n",
       "      <th>1</th>\n",
       "      <td>b020a737f6071a746fbb5f85f3eec369ffb315bb66b625...</td>\n",
       "      <td>common_voice_ru_22161098.mp3</td>\n",
       "      <td>1</td>\n",
       "    </tr>\n",
       "    <tr>\n",
       "      <th>2</th>\n",
       "      <td>bd7753ba89f42386c225ef69644e8dd39abba1f9aa3d57...</td>\n",
       "      <td>common_voice_ru_22686115.mp3</td>\n",
       "      <td>0</td>\n",
       "    </tr>\n",
       "    <tr>\n",
       "      <th>3</th>\n",
       "      <td>bd7753ba89f42386c225ef69644e8dd39abba1f9aa3d57...</td>\n",
       "      <td>common_voice_ru_22704060.mp3</td>\n",
       "      <td>0</td>\n",
       "    </tr>\n",
       "    <tr>\n",
       "      <th>4</th>\n",
       "      <td>299f0dd85f2861f679e92991dc15e9adbdcc7cb8ce7e6d...</td>\n",
       "      <td>common_voice_ru_18858660.mp3</td>\n",
       "      <td>1</td>\n",
       "    </tr>\n",
       "  </tbody>\n",
       "</table>\n",
       "</div>"
      ],
      "text/plain": [
       "                                           client_id  \\\n",
       "0  bd4b753eeeedcc84cea162e32dd4fd94e4f52d5acdd5d2...   \n",
       "1  b020a737f6071a746fbb5f85f3eec369ffb315bb66b625...   \n",
       "2  bd7753ba89f42386c225ef69644e8dd39abba1f9aa3d57...   \n",
       "3  bd7753ba89f42386c225ef69644e8dd39abba1f9aa3d57...   \n",
       "4  299f0dd85f2861f679e92991dc15e9adbdcc7cb8ce7e6d...   \n",
       "\n",
       "                           path  gender  \n",
       "0  common_voice_ru_20838501.mp3       1  \n",
       "1  common_voice_ru_22161098.mp3       1  \n",
       "2  common_voice_ru_22686115.mp3       0  \n",
       "3  common_voice_ru_22704060.mp3       0  \n",
       "4  common_voice_ru_18858660.mp3       1  "
      ]
     },
     "execution_count": 21,
     "metadata": {},
     "output_type": "execute_result"
    }
   ],
   "source": [
    "df_train['gender'].replace(to_replace=['female', 'male'],value= [0, 1], inplace=True)\n",
    "df_train.head()"
   ]
  },
  {
   "cell_type": "code",
   "execution_count": 22,
   "metadata": {},
   "outputs": [],
   "source": [
    "df_test = df_test.dropna()"
   ]
  },
  {
   "cell_type": "code",
   "execution_count": 23,
   "metadata": {},
   "outputs": [
    {
     "data": {
      "text/plain": [
       "(3853, 3)"
      ]
     },
     "execution_count": 23,
     "metadata": {},
     "output_type": "execute_result"
    }
   ],
   "source": [
    "df_test['gender'].replace(to_replace=['female', 'male'],value= [0, 1], inplace=True)\n",
    "df_test.shape"
   ]
  },
  {
   "cell_type": "code",
   "execution_count": 24,
   "metadata": {},
   "outputs": [],
   "source": [
    "df_train.to_csv('train_preproc_balanced.csv')"
   ]
  },
  {
   "cell_type": "code",
   "execution_count": 25,
   "metadata": {},
   "outputs": [],
   "source": [
    "df_test.to_csv('test_dropna.csv')"
   ]
  },
  {
   "cell_type": "code",
   "execution_count": null,
   "metadata": {},
   "outputs": [],
   "source": []
  },
  {
   "cell_type": "markdown",
   "metadata": {},
   "source": [
    "**Перегоним mp3 в np.arrays и сделаем даталоадеры**"
   ]
  },
  {
   "cell_type": "code",
   "execution_count": 26,
   "metadata": {},
   "outputs": [
    {
     "name": "stdout",
     "output_type": "stream",
     "text": [
      "Sun Jan  9 15:05:41 2022       \n",
      "+-----------------------------------------------------------------------------+\n",
      "| NVIDIA-SMI 450.102.04   Driver Version: 450.102.04   CUDA Version: 11.0     |\n",
      "|-------------------------------+----------------------+----------------------+\n",
      "| GPU  Name        Persistence-M| Bus-Id        Disp.A | Volatile Uncorr. ECC |\n",
      "| Fan  Temp  Perf  Pwr:Usage/Cap|         Memory-Usage | GPU-Util  Compute M. |\n",
      "|                               |                      |               MIG M. |\n",
      "|===============================+======================+======================|\n",
      "|   0  Tesla V100-SXM2...  Off  | 00000000:06:00.0 Off |                    0 |\n",
      "| N/A   35C    P0    56W / 300W |   7621MiB / 16160MiB |      0%      Default |\n",
      "|                               |                      |                  N/A |\n",
      "+-------------------------------+----------------------+----------------------+\n",
      "|   1  Tesla V100-SXM2...  Off  | 00000000:07:00.0 Off |                    0 |\n",
      "| N/A   35C    P0    42W / 300W |      3MiB / 16160MiB |      0%      Default |\n",
      "|                               |                      |                  N/A |\n",
      "+-------------------------------+----------------------+----------------------+\n",
      "|   2  Tesla V100-SXM2...  Off  | 00000000:0A:00.0 Off |                    0 |\n",
      "| N/A   37C    P0    56W / 300W |   1706MiB / 16160MiB |      0%      Default |\n",
      "|                               |                      |                  N/A |\n",
      "+-------------------------------+----------------------+----------------------+\n",
      "|   3  Tesla V100-SXM2...  Off  | 00000000:0B:00.0 Off |                    0 |\n",
      "| N/A   35C    P0    56W / 300W |   3694MiB / 16160MiB |      0%      Default |\n",
      "|                               |                      |                  N/A |\n",
      "+-------------------------------+----------------------+----------------------+\n",
      "|   4  Tesla V100-SXM2...  Off  | 00000000:85:00.0 Off |                    0 |\n",
      "| N/A   33C    P0    42W / 300W |      3MiB / 16160MiB |      0%      Default |\n",
      "|                               |                      |                  N/A |\n",
      "+-------------------------------+----------------------+----------------------+\n",
      "|   5  Tesla V100-SXM2...  Off  | 00000000:86:00.0 Off |                    0 |\n",
      "| N/A   34C    P0    42W / 300W |      3MiB / 16160MiB |      0%      Default |\n",
      "|                               |                      |                  N/A |\n",
      "+-------------------------------+----------------------+----------------------+\n",
      "|   6  Tesla V100-SXM2...  Off  | 00000000:89:00.0 Off |                    0 |\n",
      "| N/A   39C    P0    58W / 300W |   1922MiB / 16160MiB |      0%      Default |\n",
      "|                               |                      |                  N/A |\n",
      "+-------------------------------+----------------------+----------------------+\n",
      "|   7  Tesla V100-SXM2...  Off  | 00000000:8A:00.0 Off |                    0 |\n",
      "| N/A   34C    P0    57W / 300W |   3328MiB / 16160MiB |      0%      Default |\n",
      "|                               |                      |                  N/A |\n",
      "+-------------------------------+----------------------+----------------------+\n",
      "                                                                               \n",
      "+-----------------------------------------------------------------------------+\n",
      "| Processes:                                                                  |\n",
      "|  GPU   GI   CI        PID   Type   Process name                  GPU Memory |\n",
      "|        ID   ID                                                   Usage      |\n",
      "|=============================================================================|\n",
      "+-----------------------------------------------------------------------------+\n"
     ]
    }
   ],
   "source": [
    "!nvidia-smi"
   ]
  },
  {
   "cell_type": "code",
   "execution_count": 2,
   "metadata": {},
   "outputs": [],
   "source": [
    "df = pd.read_csv('train_preproc_balanced.csv')"
   ]
  },
  {
   "cell_type": "code",
   "execution_count": 4,
   "metadata": {},
   "outputs": [],
   "source": [
    "device = torch.device('cuda:1' if torch.cuda.is_available() else 'cpu')"
   ]
  },
  {
   "cell_type": "code",
   "execution_count": 5,
   "metadata": {},
   "outputs": [],
   "source": [
    "label_encoder = LabelEncoder()\n",
    "train_label_ids_gender = label_encoder.fit_transform(df.gender)\n",
    "\n",
    "labels_train_gender = torch.LongTensor(train_label_ids_gender)\n",
    "\n",
    "all_dataset = list(zip(df.path,labels_train_gender))\n",
    "\n",
    "train_files, val_files = train_test_split(all_dataset, test_size=0.25)"
   ]
  },
  {
   "cell_type": "code",
   "execution_count": 6,
   "metadata": {},
   "outputs": [
    {
     "name": "stdout",
     "output_type": "stream",
     "text": [
      "ADDITIONAL_TASK_BEST.pt             example_not_norm.npy\r\n",
      "VoiceGenderClf.ipynb                \u001b[0m\u001b[01;34mspeechbrain\u001b[0m/\r\n",
      "\u001b[01;34maudio_npy\u001b[0m/                          test_dropna.csv\r\n",
      "\u001b[01;34mcv-corpus-7.0-2021-07-21\u001b[0m/           train_preproc_balanced.csv\r\n",
      "\u001b[01;31mcv-corpus-7.0-2021-07-21-ru.tar.gz\u001b[0m\r\n"
     ]
    }
   ],
   "source": [
    "ls"
   ]
  },
  {
   "cell_type": "code",
   "execution_count": 7,
   "metadata": {},
   "outputs": [],
   "source": [
    "path = \"cv-corpus-7.0-2021-07-21/ru/clips/\""
   ]
  },
  {
   "cell_type": "code",
   "execution_count": 8,
   "metadata": {},
   "outputs": [
    {
     "data": {
      "text/plain": [
       "'common_voice_ru_18892705.mp3'"
      ]
     },
     "execution_count": 8,
     "metadata": {},
     "output_type": "execute_result"
    }
   ],
   "source": [
    "train_files[0][0]"
   ]
  },
  {
   "cell_type": "code",
   "execution_count": 9,
   "metadata": {},
   "outputs": [],
   "source": [
    "# # !pip install soundfile\n",
    "# !pip install sndfile\n",
    "# !pip install ffmpeg\n",
    "# !pip install ffprobe"
   ]
  },
  {
   "cell_type": "code",
   "execution_count": 10,
   "metadata": {},
   "outputs": [],
   "source": [
    "import pydub \n",
    "import numpy as np\n",
    "\n",
    "def read(f, normalized=False, sr=16000):\n",
    "    \"\"\"MP3 to numpy array\"\"\"\n",
    "    a = pydub.AudioSegment.from_mp3(f)\n",
    "    a = a.set_frame_rate(sr)\n",
    "    y = np.array(a.get_array_of_samples())\n",
    "    if a.channels == 2:\n",
    "        y = y.reshape((-1, 2))\n",
    "    if normalized:\n",
    "        return a.frame_rate, np.float32(y) / 2**15\n",
    "    else:\n",
    "        return a.frame_rate, y\n",
    "\n",
    "def write(f, sr, x, normalized=False):\n",
    "    \"\"\"numpy array to MP3\"\"\"\n",
    "    channels = 2 if (x.ndim == 2 and x.shape[1] == 2) else 1\n",
    "    if normalized:  # normalized array - each item should be a float in [-1, 1)\n",
    "        y = np.int16(x * 2 ** 15)\n",
    "    else:\n",
    "        y = np.int16(x)\n",
    "    song = pydub.AudioSegment(y.tobytes(), frame_rate=sr, sample_width=2, channels=channels)\n",
    "    song.export(f, format=\"mp3\", bitrate=\"320k\")"
   ]
  },
  {
   "cell_type": "code",
   "execution_count": 24,
   "metadata": {},
   "outputs": [],
   "source": [
    "# !apt-get update\n",
    "# apt-get install ffmpeg"
   ]
  },
  {
   "cell_type": "code",
   "execution_count": 11,
   "metadata": {
    "scrolled": true
   },
   "outputs": [],
   "source": [
    "sr, x = read(path+'common_voice_ru_20656895.mp3')"
   ]
  },
  {
   "cell_type": "code",
   "execution_count": 12,
   "metadata": {},
   "outputs": [],
   "source": [
    "np.save('example_not_norm.npy', x)"
   ]
  },
  {
   "cell_type": "code",
   "execution_count": 13,
   "metadata": {},
   "outputs": [
    {
     "data": {
      "text/html": [
       "\n",
       "                <audio  controls=\"controls\" autoplay=\"autoplay\">\n",
       "                    <source src=\"data:audio/mpeg;base64,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\" type=\"audio/mpeg\" />\n",
       "                    Your browser does not support the audio element.\n",
       "                </audio>\n",
       "              "
      ],
      "text/plain": [
       "<IPython.lib.display.Audio object>"
      ]
     },
     "execution_count": 13,
     "metadata": {},
     "output_type": "execute_result"
    }
   ],
   "source": [
    "from IPython.display import Audio \n",
    "Audio(path+'common_voice_ru_20656895.mp3', autoplay=True)"
   ]
  },
  {
   "cell_type": "code",
   "execution_count": 14,
   "metadata": {},
   "outputs": [
    {
     "data": {
      "text/plain": [
       "16000"
      ]
     },
     "execution_count": 14,
     "metadata": {},
     "output_type": "execute_result"
    }
   ],
   "source": [
    "sr"
   ]
  },
  {
   "cell_type": "code",
   "execution_count": 15,
   "metadata": {},
   "outputs": [
    {
     "data": {
      "text/plain": [
       "[<matplotlib.lines.Line2D at 0x7f6f453a93c8>]"
      ]
     },
     "execution_count": 15,
     "metadata": {},
     "output_type": "execute_result"
    },
    {
     "data": {
      "image/png": "[encoded data removed]",
      "text/plain": [
       "<Figure size 432x288 with 1 Axes>"
      ]
     },
     "metadata": {
      "needs_background": "light"
     },
     "output_type": "display_data"
    }
   ],
   "source": [
    "plt.plot(x)"
   ]
  },
  {
   "cell_type": "code",
   "execution_count": 16,
   "metadata": {},
   "outputs": [],
   "source": [
    "y = np.fft.fft(x)"
   ]
  },
  {
   "cell_type": "code",
   "execution_count": 17,
   "metadata": {},
   "outputs": [
    {
     "name": "stderr",
     "output_type": "stream",
     "text": [
      "/opt/conda/lib/python3.6/site-packages/numpy/core/_asarray.py:83: ComplexWarning: Casting complex values to real discards the imaginary part\n",
      "  return array(a, dtype, copy=False, order=order)\n"
     ]
    },
    {
     "data": {
      "text/plain": [
       "[<matplotlib.lines.Line2D at 0x7f6f44b37198>]"
      ]
     },
     "execution_count": 17,
     "metadata": {},
     "output_type": "execute_result"
    },
    {
     "data": {
      "image/png": "[encoded data removed]",
      "text/plain": [
       "<Figure size 432x288 with 1 Axes>"
      ]
     },
     "metadata": {
      "needs_background": "light"
     },
     "output_type": "display_data"
    }
   ],
   "source": [
    "plt.plot(y)"
   ]
  },
  {
   "cell_type": "code",
   "execution_count": 18,
   "metadata": {},
   "outputs": [],
   "source": [
    "# ls \"cv-corpus-7.0-2021-07-21/ru/clips/\""
   ]
  },
  {
   "cell_type": "code",
   "execution_count": 20,
   "metadata": {},
   "outputs": [],
   "source": [
    "a = os.listdir(\"./cv-corpus-7.0-2021-07-21/ru/clips/\")"
   ]
  },
  {
   "cell_type": "code",
   "execution_count": 21,
   "metadata": {},
   "outputs": [
    {
     "data": {
      "text/plain": [
       "115988"
      ]
     },
     "execution_count": 21,
     "metadata": {},
     "output_type": "execute_result"
    }
   ],
   "source": [
    "len(a)\n",
    "#довольно много, поэтому будем переводить в нампай только отобранные"
   ]
  },
  {
   "cell_type": "markdown",
   "metadata": {},
   "source": [
    "**начнем перегон mp3 в numpy arrays. единственное, есть смысл сделать аудио одинаковой длины, обрезав или западив**"
   ]
  },
  {
   "cell_type": "code",
   "execution_count": 24,
   "metadata": {},
   "outputs": [],
   "source": [
    "DIR_TO_SAVE = 'audio_npy/'"
   ]
  },
  {
   "cell_type": "code",
   "execution_count": 63,
   "metadata": {},
   "outputs": [],
   "source": [
    "# %mkdir audio_npy"
   ]
  },
  {
   "cell_type": "code",
   "execution_count": 65,
   "metadata": {},
   "outputs": [],
   "source": []
  },
  {
   "cell_type": "code",
   "execution_count": 62,
   "metadata": {},
   "outputs": [
    {
     "data": {
      "text/html": [
       "<div>\n",
       "<style scoped>\n",
       "    .dataframe tbody tr th:only-of-type {\n",
       "        vertical-align: middle;\n",
       "    }\n",
       "\n",
       "    .dataframe tbody tr th {\n",
       "        vertical-align: top;\n",
       "    }\n",
       "\n",
       "    .dataframe thead th {\n",
       "        text-align: right;\n",
       "    }\n",
       "</style>\n",
       "<table border=\"1\" class=\"dataframe\">\n",
       "  <thead>\n",
       "    <tr style=\"text-align: right;\">\n",
       "      <th></th>\n",
       "      <th>Unnamed: 0</th>\n",
       "      <th>client_id</th>\n",
       "      <th>path</th>\n",
       "      <th>gender</th>\n",
       "    </tr>\n",
       "  </thead>\n",
       "  <tbody>\n",
       "    <tr>\n",
       "      <th>0</th>\n",
       "      <td>0</td>\n",
       "      <td>5e949643688ea0d3800197ff7d1c8afe7936cffbcee3a0...</td>\n",
       "      <td>common_voice_ru_18892576.mp3</td>\n",
       "      <td>0</td>\n",
       "    </tr>\n",
       "    <tr>\n",
       "      <th>1</th>\n",
       "      <td>1</td>\n",
       "      <td>237823cbf2c238371c07276002cf9731316ac0f11c6528...</td>\n",
       "      <td>common_voice_ru_19091861.mp3</td>\n",
       "      <td>1</td>\n",
       "    </tr>\n",
       "    <tr>\n",
       "      <th>2</th>\n",
       "      <td>2</td>\n",
       "      <td>299f0dd85f2861f679e92991dc15e9adbdcc7cb8ce7e6d...</td>\n",
       "      <td>common_voice_ru_18864494.mp3</td>\n",
       "      <td>1</td>\n",
       "    </tr>\n",
       "    <tr>\n",
       "      <th>3</th>\n",
       "      <td>3</td>\n",
       "      <td>e134f72e7ee1e4a3bc648a8ff25da594867d8b03d3e57e...</td>\n",
       "      <td>common_voice_ru_25405041.mp3</td>\n",
       "      <td>1</td>\n",
       "    </tr>\n",
       "    <tr>\n",
       "      <th>4</th>\n",
       "      <td>4</td>\n",
       "      <td>560d9b4832633ea25c9ae33aad194caeae7050194cd4e6...</td>\n",
       "      <td>common_voice_ru_18898619.mp3</td>\n",
       "      <td>1</td>\n",
       "    </tr>\n",
       "  </tbody>\n",
       "</table>\n",
       "</div>"
      ],
      "text/plain": [
       "   Unnamed: 0                                          client_id  \\\n",
       "0           0  5e949643688ea0d3800197ff7d1c8afe7936cffbcee3a0...   \n",
       "1           1  237823cbf2c238371c07276002cf9731316ac0f11c6528...   \n",
       "2           2  299f0dd85f2861f679e92991dc15e9adbdcc7cb8ce7e6d...   \n",
       "3           3  e134f72e7ee1e4a3bc648a8ff25da594867d8b03d3e57e...   \n",
       "4           4  560d9b4832633ea25c9ae33aad194caeae7050194cd4e6...   \n",
       "\n",
       "                           path  gender  \n",
       "0  common_voice_ru_18892576.mp3       0  \n",
       "1  common_voice_ru_19091861.mp3       1  \n",
       "2  common_voice_ru_18864494.mp3       1  \n",
       "3  common_voice_ru_25405041.mp3       1  \n",
       "4  common_voice_ru_18898619.mp3       1  "
      ]
     },
     "execution_count": 62,
     "metadata": {},
     "output_type": "execute_result"
    }
   ],
   "source": [
    "df.head()"
   ]
  },
  {
   "cell_type": "code",
   "execution_count": 93,
   "metadata": {},
   "outputs": [],
   "source": [
    "sr, x = read(path+'common_voice_ru_20656895.mp3')"
   ]
  },
  {
   "cell_type": "code",
   "execution_count": 94,
   "metadata": {},
   "outputs": [
    {
     "data": {
      "text/plain": [
       "85632"
      ]
     },
     "execution_count": 94,
     "metadata": {},
     "output_type": "execute_result"
    }
   ],
   "source": [
    "len(x)"
   ]
  },
  {
   "cell_type": "code",
   "execution_count": 100,
   "metadata": {},
   "outputs": [],
   "source": [
    "x = np.ones(77776)"
   ]
  },
  {
   "cell_type": "code",
   "execution_count": 103,
   "metadata": {},
   "outputs": [
    {
     "data": {
      "text/plain": [
       "80000"
      ]
     },
     "execution_count": 103,
     "metadata": {},
     "output_type": "execute_result"
    }
   ],
   "source": [
    "def padder(x, sr=16000, t=5):\n",
    "    npy_len = t*sr\n",
    "    if len(x)>npy_len:\n",
    "        q=len(x)-npy_len\n",
    "        x = x[q//2:q//2+npy_len]\n",
    "    elif len(x)<npy_len:\n",
    "        x = np.pad(x,(0, npy_len), mode='symmetric')[:npy_len]\n",
    "    return x\n",
    "\n",
    "x1 = padder(x)\n",
    "len(x1)"
   ]
  },
  {
   "cell_type": "code",
   "execution_count": 88,
   "metadata": {},
   "outputs": [
    {
     "data": {
      "text/plain": [
       "array([-1635, -1441, -1272, -1151, -1065,  -962,  -808,  -666,  -493,\n",
       "        -340,  -192,   -91,     3,   160,   342,   508,   668,   793,\n",
       "         904,  1013,  1103,  1199,  1291,  1342], dtype=int16)"
      ]
     },
     "execution_count": 88,
     "metadata": {},
     "output_type": "execute_result"
    }
   ],
   "source": [
    "x1"
   ]
  },
  {
   "cell_type": "code",
   "execution_count": 105,
   "metadata": {},
   "outputs": [
    {
     "name": "stderr",
     "output_type": "stream",
     "text": [
      "100%|██████████| 5556/5556 [13:46<00:00,  6.72it/s]\n"
     ]
    }
   ],
   "source": [
    "# path = \"cv-corpus-7.0-2021-07-21/ru/clips/\"\n",
    "# from tqdm import tqdm\n",
    "# for n in tqdm(df.path):\n",
    "#     name = path+n\n",
    "#     path_to_save = DIR_TO_SAVE+n[:-4]+'_padded.npy'\n",
    "#     sr, x = read(name, normalized=True, sr=16000)\n",
    "#     x = padder(x, sr=sr, t=5)\n",
    "#     #print(len(x))\n",
    "#     #print(len(x))\n",
    "#     np.save(path_to_save, x)"
   ]
  },
  {
   "cell_type": "code",
   "execution_count": 22,
   "metadata": {},
   "outputs": [],
   "source": [
    "df_test = pd.read_csv('test_dropna.csv')"
   ]
  },
  {
   "cell_type": "code",
   "execution_count": 107,
   "metadata": {},
   "outputs": [
    {
     "name": "stderr",
     "output_type": "stream",
     "text": [
      "100%|██████████| 3853/3853 [09:40<00:00,  6.63it/s]\n"
     ]
    }
   ],
   "source": [
    "# path = \"cv-corpus-7.0-2021-07-21/ru/clips/\"\n",
    "# from tqdm import tqdm\n",
    "# for n in tqdm(df_test.path):\n",
    "#     name = path+n\n",
    "#     path_to_save = DIR_TO_SAVE+n[:-4]+'_padded.npy'\n",
    "#     sr, x = read(name, normalized=True, sr=16000)\n",
    "#     x = padder(x, sr=sr, t=5)\n",
    "#     #print(len(x))\n",
    "#     #print(len(x))\n",
    "#     np.save(path_to_save, x)"
   ]
  },
  {
   "cell_type": "code",
   "execution_count": 25,
   "metadata": {},
   "outputs": [],
   "source": [
    "DIR_TO_SAVE = 'audio_npy/'\n",
    "def collate_batch(batch, path = DIR_TO_SAVE):\n",
    "    arr = []\n",
    "\n",
    "    labels_gender = torch.LongTensor([label for _,label in batch])   \n",
    "    \n",
    "    for train_path in batch:\n",
    "        arr.append(np.load(path + train_path[0][:-4]+'_padded.npy'))\n",
    "     # print(arr[-1].shape)\n",
    "     \n",
    "    arr_pad = torch.Tensor(arr).to(device)\n",
    "\n",
    "    return [arr_pad, labels_gender]  "
   ]
  },
  {
   "cell_type": "code",
   "execution_count": 26,
   "metadata": {},
   "outputs": [],
   "source": [
    "train_dataloader = DataLoader(train_files, batch_size=64, shuffle=True, \n",
    "                                  collate_fn=collate_batch)\n",
    "\n",
    "val_dataloader = DataLoader(val_files, batch_size=64, shuffle=False, \n",
    "                              collate_fn=collate_batch)"
   ]
  },
  {
   "cell_type": "code",
   "execution_count": 27,
   "metadata": {},
   "outputs": [],
   "source": [
    "l = "
   ]
  },
  {
   "cell_type": "code",
   "execution_count": 64,
   "metadata": {},
   "outputs": [
    {
     "ename": "AttributeError",
     "evalue": "'list' object has no attribute 'shape'",
     "output_type": "error",
     "traceback": [
      "\u001b[0;31m---------------------------------------------------------------------------\u001b[0m",
      "\u001b[0;31mAttributeError\u001b[0m                            Traceback (most recent call last)",
      "\u001b[0;32m<ipython-input-64-7b2aa0776a21>\u001b[0m in \u001b[0;36m<module>\u001b[0;34m\u001b[0m\n\u001b[0;32m----> 1\u001b[0;31m \u001b[0ml\u001b[0m\u001b[0;34m.\u001b[0m\u001b[0mshape\u001b[0m\u001b[0;34m\u001b[0m\u001b[0;34m\u001b[0m\u001b[0m\n\u001b[0m",
      "\u001b[0;31mAttributeError\u001b[0m: 'list' object has no attribute 'shape'"
     ]
    }
   ],
   "source": [
    "l.shape"
   ]
  },
  {
   "cell_type": "code",
   "execution_count": 30,
   "metadata": {},
   "outputs": [
    {
     "data": {
      "text/plain": [
       "64"
      ]
     },
     "execution_count": 30,
     "metadata": {},
     "output_type": "execute_result"
    }
   ],
   "source": [
    "len(l[0])"
   ]
  },
  {
   "cell_type": "code",
   "execution_count": 58,
   "metadata": {},
   "outputs": [
    {
     "data": {
      "text/plain": [
       "torch.Size([80000])"
      ]
     },
     "execution_count": 58,
     "metadata": {},
     "output_type": "execute_result"
    }
   ],
   "source": [
    "l[0][0].shape"
   ]
  },
  {
   "cell_type": "markdown",
   "metadata": {},
   "source": [
    "# Super stupid baseline: FFNN or even Logreg"
   ]
  },
  {
   "cell_type": "code",
   "execution_count": 39,
   "metadata": {},
   "outputs": [],
   "source": [
    "class FFNN(nn.Module):\n",
    "    def __init__(self):\n",
    "        super(FFNN, self).__init__()\n",
    "        self.flatten = nn.Flatten()\n",
    "        self.linear_relu_stack = nn.Sequential(\n",
    "            nn.Linear(80000, 1024),\n",
    "            nn.ReLU(),\n",
    "            nn.Linear(1024, 512),\n",
    "            nn.ReLU(),\n",
    "            nn.Linear(512, 2),\n",
    "        )\n",
    "\n",
    "    def forward(self, x):\n",
    "        x = self.flatten(x)\n",
    "        logits = self.linear_relu_stack(x)\n",
    "        return logits"
   ]
  },
  {
   "cell_type": "code",
   "execution_count": 38,
   "metadata": {},
   "outputs": [],
   "source": [
    "def train_model(model, dataloaders, criterion, optimizer, num_epochs=10, savename='ADDITIONAL_TASK_BEST', is_inception=False):\n",
    "    since = time.time()\n",
    "    val_acc_history = []\n",
    "    best_model_wts = copy.deepcopy(model.state_dict())\n",
    "    best_acc = 0.0\n",
    "\n",
    "    for epoch in range(num_epochs):\n",
    "        print('Epoch {}/{}'.format(epoch, num_epochs - 1))\n",
    "        print('-' * 10)\n",
    "        for phase in ['train', 'val']:\n",
    "            if phase == 'train':\n",
    "                model.train()\n",
    "            else:\n",
    "                model.eval()\n",
    "\n",
    "            running_loss = 0.0\n",
    "            running_corrects = 0\n",
    "            \n",
    "            for inputs, labels in tqdm(dataloaders[phase]):\n",
    "                inputs = inputs.to(device)\n",
    "                labels = labels.to(device)\n",
    "\n",
    "                optimizer.zero_grad()\n",
    "\n",
    "                # forward\n",
    "                # track history if only in train\n",
    "                with torch.set_grad_enabled(phase == 'train'):\n",
    "                    outputs = model(inputs)\n",
    "                    loss = criterion(outputs, labels)\n",
    "\n",
    "#                     if is_inception and phase == 'train':\n",
    "#                         # From https://discuss.pytorch.org/t/how-to-optimize-inception-model-with-auxiliary-classifiers/7958\n",
    "#                         outputs, aux_outputs = model(inputs)\n",
    "#                         loss1 = criterion(outputs, labels)\n",
    "#                         loss2 = criterion(aux_outputs, labels)\n",
    "#                         loss = loss1 + 0.4*loss2\n",
    "#                     else:\n",
    "#                         outputs = model(inputs)\n",
    "#                         loss = criterion(outputs, labels)\n",
    "\n",
    "                    _, preds = torch.max(outputs, 1)\n",
    "\n",
    "                    # backward + optimize only if in training phase\n",
    "                    if phase == 'train':\n",
    "                        loss.backward()\n",
    "                        optimizer.step()\n",
    "\n",
    "                # statistics\n",
    "                running_loss += loss.item() * inputs.size(0)\n",
    "                running_corrects += torch.sum(preds == labels.data)\n",
    "\n",
    "            epoch_loss = running_loss / len(dataloaders[phase].dataset)\n",
    "            epoch_acc = running_corrects.double() / len(dataloaders[phase].dataset)\n",
    "\n",
    "            print('{} Loss: {:.4f} Acc: {:.4f}'.format(phase, epoch_loss, epoch_acc))\n",
    "\n",
    "            # deep copy the model\n",
    "            if phase == 'val' and epoch_acc > best_acc:\n",
    "                best_acc = epoch_acc\n",
    "                best_model_wts = copy.deepcopy(model.state_dict())\n",
    "                torch.save(model.state_dict(), savename+'.pt')\n",
    "            if phase == 'val':\n",
    "                val_acc_history.append(epoch_acc)\n",
    "\n",
    "        print()\n",
    "\n",
    "    time_elapsed = time.time() - since\n",
    "    print('Training complete in {:.0f}m {:.0f}s'.format(time_elapsed // 60, time_elapsed % 60))\n",
    "    print('Best val Acc: {:4f}'.format(best_acc))\n",
    "\n",
    "    # load best model weights\n",
    "    model.load_state_dict(best_model_wts)\n",
    "    return model, val_acc_history"
   ]
  },
  {
   "cell_type": "code",
   "execution_count": 33,
   "metadata": {},
   "outputs": [],
   "source": [
    "dataloaders = {'train': train_dataloader, 'val': val_dataloader}"
   ]
  },
  {
   "cell_type": "code",
   "execution_count": 40,
   "metadata": {},
   "outputs": [],
   "source": [
    "model = FFNN()\n",
    "model = model.to(device)\n",
    "optimizer = torch.optim.SGD(model.parameters(), lr=0.01, momentum = 0.90) #, weight_decay=0.0001\n",
    "criterion = nn.CrossEntropyLoss()"
   ]
  },
  {
   "cell_type": "code",
   "execution_count": 41,
   "metadata": {},
   "outputs": [
    {
     "name": "stdout",
     "output_type": "stream",
     "text": [
      "Epoch 0/9\n",
      "----------\n"
     ]
    },
    {
     "name": "stderr",
     "output_type": "stream",
     "text": [
      "100%|██████████| 66/66 [01:18<00:00,  1.19s/it]\n"
     ]
    },
    {
     "name": "stdout",
     "output_type": "stream",
     "text": [
      "train Loss: 0.6890 Acc: 0.5455\n"
     ]
    },
    {
     "name": "stderr",
     "output_type": "stream",
     "text": [
      "100%|██████████| 22/22 [00:25<00:00,  1.15s/it]\n"
     ]
    },
    {
     "name": "stdout",
     "output_type": "stream",
     "text": [
      "val Loss: 0.6941 Acc: 0.5234\n",
      "\n",
      "Epoch 1/9\n",
      "----------\n"
     ]
    },
    {
     "name": "stderr",
     "output_type": "stream",
     "text": [
      "100%|██████████| 66/66 [01:17<00:00,  1.18s/it]\n"
     ]
    },
    {
     "name": "stdout",
     "output_type": "stream",
     "text": [
      "train Loss: 0.6652 Acc: 0.5498\n"
     ]
    },
    {
     "name": "stderr",
     "output_type": "stream",
     "text": [
      "100%|██████████| 22/22 [00:25<00:00,  1.15s/it]\n"
     ]
    },
    {
     "name": "stdout",
     "output_type": "stream",
     "text": [
      "val Loss: 0.6896 Acc: 0.5241\n",
      "\n",
      "Epoch 2/9\n",
      "----------\n"
     ]
    },
    {
     "name": "stderr",
     "output_type": "stream",
     "text": [
      "100%|██████████| 66/66 [01:17<00:00,  1.17s/it]\n"
     ]
    },
    {
     "name": "stdout",
     "output_type": "stream",
     "text": [
      "train Loss: 0.5725 Acc: 0.7670\n"
     ]
    },
    {
     "name": "stderr",
     "output_type": "stream",
     "text": [
      "100%|██████████| 22/22 [00:25<00:00,  1.14s/it]\n"
     ]
    },
    {
     "name": "stdout",
     "output_type": "stream",
     "text": [
      "val Loss: 0.6868 Acc: 0.5472\n",
      "\n",
      "Epoch 3/9\n",
      "----------\n"
     ]
    },
    {
     "name": "stderr",
     "output_type": "stream",
     "text": [
      "100%|██████████| 66/66 [01:18<00:00,  1.19s/it]\n"
     ]
    },
    {
     "name": "stdout",
     "output_type": "stream",
     "text": [
      "train Loss: 0.3026 Acc: 0.9148\n"
     ]
    },
    {
     "name": "stderr",
     "output_type": "stream",
     "text": [
      "100%|██████████| 22/22 [00:25<00:00,  1.14s/it]\n"
     ]
    },
    {
     "name": "stdout",
     "output_type": "stream",
     "text": [
      "val Loss: 0.8257 Acc: 0.5587\n",
      "\n",
      "Epoch 4/9\n",
      "----------\n"
     ]
    },
    {
     "name": "stderr",
     "output_type": "stream",
     "text": [
      "100%|██████████| 66/66 [01:16<00:00,  1.15s/it]\n"
     ]
    },
    {
     "name": "stdout",
     "output_type": "stream",
     "text": [
      "train Loss: 0.1133 Acc: 0.9674\n"
     ]
    },
    {
     "name": "stderr",
     "output_type": "stream",
     "text": [
      "100%|██████████| 22/22 [00:24<00:00,  1.13s/it]\n"
     ]
    },
    {
     "name": "stdout",
     "output_type": "stream",
     "text": [
      "val Loss: 1.0891 Acc: 0.5803\n",
      "\n",
      "Epoch 5/9\n",
      "----------\n"
     ]
    },
    {
     "name": "stderr",
     "output_type": "stream",
     "text": [
      "100%|██████████| 66/66 [01:16<00:00,  1.15s/it]\n"
     ]
    },
    {
     "name": "stdout",
     "output_type": "stream",
     "text": [
      "train Loss: 0.0443 Acc: 0.9947\n"
     ]
    },
    {
     "name": "stderr",
     "output_type": "stream",
     "text": [
      "100%|██████████| 22/22 [00:24<00:00,  1.13s/it]\n"
     ]
    },
    {
     "name": "stdout",
     "output_type": "stream",
     "text": [
      "val Loss: 1.2634 Acc: 0.5666\n",
      "\n",
      "Epoch 6/9\n",
      "----------\n"
     ]
    },
    {
     "name": "stderr",
     "output_type": "stream",
     "text": [
      "100%|██████████| 66/66 [01:16<00:00,  1.16s/it]\n"
     ]
    },
    {
     "name": "stdout",
     "output_type": "stream",
     "text": [
      "train Loss: 0.0197 Acc: 0.9993\n"
     ]
    },
    {
     "name": "stderr",
     "output_type": "stream",
     "text": [
      "100%|██████████| 22/22 [00:24<00:00,  1.13s/it]\n"
     ]
    },
    {
     "name": "stdout",
     "output_type": "stream",
     "text": [
      "val Loss: 1.4005 Acc: 0.5630\n",
      "\n",
      "Epoch 7/9\n",
      "----------\n"
     ]
    },
    {
     "name": "stderr",
     "output_type": "stream",
     "text": [
      " 11%|█         | 7/66 [00:09<01:19,  1.35s/it]\n"
     ]
    },
    {
     "ename": "KeyboardInterrupt",
     "evalue": "",
     "output_type": "error",
     "traceback": [
      "\u001b[0;31m---------------------------------------------------------------------------\u001b[0m",
      "\u001b[0;31mKeyboardInterrupt\u001b[0m                         Traceback (most recent call last)",
      "\u001b[0;32m<ipython-input-41-a8291a298df6>\u001b[0m in \u001b[0;36m<module>\u001b[0;34m\u001b[0m\n\u001b[0;32m----> 1\u001b[0;31m \u001b[0mtrain_model\u001b[0m\u001b[0;34m(\u001b[0m\u001b[0mmodel\u001b[0m\u001b[0;34m,\u001b[0m \u001b[0mdataloaders\u001b[0m\u001b[0;34m,\u001b[0m \u001b[0mcriterion\u001b[0m\u001b[0;34m,\u001b[0m \u001b[0moptimizer\u001b[0m\u001b[0;34m,\u001b[0m \u001b[0mnum_epochs\u001b[0m\u001b[0;34m=\u001b[0m\u001b[0;36m10\u001b[0m\u001b[0;34m,\u001b[0m \u001b[0msavename\u001b[0m\u001b[0;34m=\u001b[0m\u001b[0;34m'FFNN_baseline'\u001b[0m\u001b[0;34m)\u001b[0m\u001b[0;34m\u001b[0m\u001b[0;34m\u001b[0m\u001b[0m\n\u001b[0m",
      "\u001b[0;32m<ipython-input-38-ef1d3827837d>\u001b[0m in \u001b[0;36mtrain_model\u001b[0;34m(model, dataloaders, criterion, optimizer, num_epochs, savename, is_inception)\u001b[0m\n\u001b[1;32m     17\u001b[0m             \u001b[0mrunning_corrects\u001b[0m \u001b[0;34m=\u001b[0m \u001b[0;36m0\u001b[0m\u001b[0;34m\u001b[0m\u001b[0;34m\u001b[0m\u001b[0m\n\u001b[1;32m     18\u001b[0m \u001b[0;34m\u001b[0m\u001b[0m\n\u001b[0;32m---> 19\u001b[0;31m             \u001b[0;32mfor\u001b[0m \u001b[0minputs\u001b[0m\u001b[0;34m,\u001b[0m \u001b[0mlabels\u001b[0m \u001b[0;32min\u001b[0m \u001b[0mtqdm\u001b[0m\u001b[0;34m(\u001b[0m\u001b[0mdataloaders\u001b[0m\u001b[0;34m[\u001b[0m\u001b[0mphase\u001b[0m\u001b[0;34m]\u001b[0m\u001b[0;34m)\u001b[0m\u001b[0;34m:\u001b[0m\u001b[0;34m\u001b[0m\u001b[0;34m\u001b[0m\u001b[0m\n\u001b[0m\u001b[1;32m     20\u001b[0m                 \u001b[0minputs\u001b[0m \u001b[0;34m=\u001b[0m \u001b[0minputs\u001b[0m\u001b[0;34m.\u001b[0m\u001b[0mto\u001b[0m\u001b[0;34m(\u001b[0m\u001b[0mdevice\u001b[0m\u001b[0;34m)\u001b[0m\u001b[0;34m\u001b[0m\u001b[0;34m\u001b[0m\u001b[0m\n\u001b[1;32m     21\u001b[0m                 \u001b[0mlabels\u001b[0m \u001b[0;34m=\u001b[0m \u001b[0mlabels\u001b[0m\u001b[0;34m.\u001b[0m\u001b[0mto\u001b[0m\u001b[0;34m(\u001b[0m\u001b[0mdevice\u001b[0m\u001b[0;34m)\u001b[0m\u001b[0;34m\u001b[0m\u001b[0;34m\u001b[0m\u001b[0m\n",
      "\u001b[0;32m/opt/conda/lib/python3.6/site-packages/tqdm/std.py\u001b[0m in \u001b[0;36m__iter__\u001b[0;34m(self)\u001b[0m\n\u001b[1;32m   1178\u001b[0m \u001b[0;34m\u001b[0m\u001b[0m\n\u001b[1;32m   1179\u001b[0m         \u001b[0;32mtry\u001b[0m\u001b[0;34m:\u001b[0m\u001b[0;34m\u001b[0m\u001b[0;34m\u001b[0m\u001b[0m\n\u001b[0;32m-> 1180\u001b[0;31m             \u001b[0;32mfor\u001b[0m \u001b[0mobj\u001b[0m \u001b[0;32min\u001b[0m \u001b[0miterable\u001b[0m\u001b[0;34m:\u001b[0m\u001b[0;34m\u001b[0m\u001b[0;34m\u001b[0m\u001b[0m\n\u001b[0m\u001b[1;32m   1181\u001b[0m                 \u001b[0;32myield\u001b[0m \u001b[0mobj\u001b[0m\u001b[0;34m\u001b[0m\u001b[0;34m\u001b[0m\u001b[0m\n\u001b[1;32m   1182\u001b[0m                 \u001b[0;31m# Update and possibly print the progressbar.\u001b[0m\u001b[0;34m\u001b[0m\u001b[0;34m\u001b[0m\u001b[0;34m\u001b[0m\u001b[0m\n",
      "\u001b[0;32m/opt/conda/lib/python3.6/site-packages/torch/utils/data/dataloader.py\u001b[0m in \u001b[0;36m__next__\u001b[0;34m(self)\u001b[0m\n\u001b[1;32m    519\u001b[0m             \u001b[0;32mif\u001b[0m \u001b[0mself\u001b[0m\u001b[0;34m.\u001b[0m\u001b[0m_sampler_iter\u001b[0m \u001b[0;32mis\u001b[0m \u001b[0;32mNone\u001b[0m\u001b[0;34m:\u001b[0m\u001b[0;34m\u001b[0m\u001b[0;34m\u001b[0m\u001b[0m\n\u001b[1;32m    520\u001b[0m                 \u001b[0mself\u001b[0m\u001b[0;34m.\u001b[0m\u001b[0m_reset\u001b[0m\u001b[0;34m(\u001b[0m\u001b[0;34m)\u001b[0m\u001b[0;34m\u001b[0m\u001b[0;34m\u001b[0m\u001b[0m\n\u001b[0;32m--> 521\u001b[0;31m             \u001b[0mdata\u001b[0m \u001b[0;34m=\u001b[0m \u001b[0mself\u001b[0m\u001b[0;34m.\u001b[0m\u001b[0m_next_data\u001b[0m\u001b[0;34m(\u001b[0m\u001b[0;34m)\u001b[0m\u001b[0;34m\u001b[0m\u001b[0;34m\u001b[0m\u001b[0m\n\u001b[0m\u001b[1;32m    522\u001b[0m             \u001b[0mself\u001b[0m\u001b[0;34m.\u001b[0m\u001b[0m_num_yielded\u001b[0m \u001b[0;34m+=\u001b[0m \u001b[0;36m1\u001b[0m\u001b[0;34m\u001b[0m\u001b[0;34m\u001b[0m\u001b[0m\n\u001b[1;32m    523\u001b[0m             \u001b[0;32mif\u001b[0m \u001b[0mself\u001b[0m\u001b[0;34m.\u001b[0m\u001b[0m_dataset_kind\u001b[0m \u001b[0;34m==\u001b[0m \u001b[0m_DatasetKind\u001b[0m\u001b[0;34m.\u001b[0m\u001b[0mIterable\u001b[0m \u001b[0;32mand\u001b[0m\u001b[0;31m \u001b[0m\u001b[0;31m\\\u001b[0m\u001b[0;34m\u001b[0m\u001b[0;34m\u001b[0m\u001b[0m\n",
      "\u001b[0;32m/opt/conda/lib/python3.6/site-packages/torch/utils/data/dataloader.py\u001b[0m in \u001b[0;36m_next_data\u001b[0;34m(self)\u001b[0m\n\u001b[1;32m    559\u001b[0m     \u001b[0;32mdef\u001b[0m \u001b[0m_next_data\u001b[0m\u001b[0;34m(\u001b[0m\u001b[0mself\u001b[0m\u001b[0;34m)\u001b[0m\u001b[0;34m:\u001b[0m\u001b[0;34m\u001b[0m\u001b[0;34m\u001b[0m\u001b[0m\n\u001b[1;32m    560\u001b[0m         \u001b[0mindex\u001b[0m \u001b[0;34m=\u001b[0m \u001b[0mself\u001b[0m\u001b[0;34m.\u001b[0m\u001b[0m_next_index\u001b[0m\u001b[0;34m(\u001b[0m\u001b[0;34m)\u001b[0m  \u001b[0;31m# may raise StopIteration\u001b[0m\u001b[0;34m\u001b[0m\u001b[0;34m\u001b[0m\u001b[0m\n\u001b[0;32m--> 561\u001b[0;31m         \u001b[0mdata\u001b[0m \u001b[0;34m=\u001b[0m \u001b[0mself\u001b[0m\u001b[0;34m.\u001b[0m\u001b[0m_dataset_fetcher\u001b[0m\u001b[0;34m.\u001b[0m\u001b[0mfetch\u001b[0m\u001b[0;34m(\u001b[0m\u001b[0mindex\u001b[0m\u001b[0;34m)\u001b[0m  \u001b[0;31m# may raise StopIteration\u001b[0m\u001b[0;34m\u001b[0m\u001b[0;34m\u001b[0m\u001b[0m\n\u001b[0m\u001b[1;32m    562\u001b[0m         \u001b[0;32mif\u001b[0m \u001b[0mself\u001b[0m\u001b[0;34m.\u001b[0m\u001b[0m_pin_memory\u001b[0m\u001b[0;34m:\u001b[0m\u001b[0;34m\u001b[0m\u001b[0;34m\u001b[0m\u001b[0m\n\u001b[1;32m    563\u001b[0m             \u001b[0mdata\u001b[0m \u001b[0;34m=\u001b[0m \u001b[0m_utils\u001b[0m\u001b[0;34m.\u001b[0m\u001b[0mpin_memory\u001b[0m\u001b[0;34m.\u001b[0m\u001b[0mpin_memory\u001b[0m\u001b[0;34m(\u001b[0m\u001b[0mdata\u001b[0m\u001b[0;34m)\u001b[0m\u001b[0;34m\u001b[0m\u001b[0;34m\u001b[0m\u001b[0m\n",
      "\u001b[0;32m/opt/conda/lib/python3.6/site-packages/torch/utils/data/_utils/fetch.py\u001b[0m in \u001b[0;36mfetch\u001b[0;34m(self, possibly_batched_index)\u001b[0m\n\u001b[1;32m     45\u001b[0m         \u001b[0;32melse\u001b[0m\u001b[0;34m:\u001b[0m\u001b[0;34m\u001b[0m\u001b[0;34m\u001b[0m\u001b[0m\n\u001b[1;32m     46\u001b[0m             \u001b[0mdata\u001b[0m \u001b[0;34m=\u001b[0m \u001b[0mself\u001b[0m\u001b[0;34m.\u001b[0m\u001b[0mdataset\u001b[0m\u001b[0;34m[\u001b[0m\u001b[0mpossibly_batched_index\u001b[0m\u001b[0;34m]\u001b[0m\u001b[0;34m\u001b[0m\u001b[0;34m\u001b[0m\u001b[0m\n\u001b[0;32m---> 47\u001b[0;31m         \u001b[0;32mreturn\u001b[0m \u001b[0mself\u001b[0m\u001b[0;34m.\u001b[0m\u001b[0mcollate_fn\u001b[0m\u001b[0;34m(\u001b[0m\u001b[0mdata\u001b[0m\u001b[0;34m)\u001b[0m\u001b[0;34m\u001b[0m\u001b[0;34m\u001b[0m\u001b[0m\n\u001b[0m",
      "\u001b[0;32m<ipython-input-25-309294caf22a>\u001b[0m in \u001b[0;36mcollate_batch\u001b[0;34m(batch, path)\u001b[0m\n\u001b[1;32m      9\u001b[0m      \u001b[0;31m# print(arr[-1].shape)\u001b[0m\u001b[0;34m\u001b[0m\u001b[0;34m\u001b[0m\u001b[0;34m\u001b[0m\u001b[0m\n\u001b[1;32m     10\u001b[0m \u001b[0;34m\u001b[0m\u001b[0m\n\u001b[0;32m---> 11\u001b[0;31m     \u001b[0marr_pad\u001b[0m \u001b[0;34m=\u001b[0m \u001b[0mtorch\u001b[0m\u001b[0;34m.\u001b[0m\u001b[0mTensor\u001b[0m\u001b[0;34m(\u001b[0m\u001b[0marr\u001b[0m\u001b[0;34m)\u001b[0m\u001b[0;34m.\u001b[0m\u001b[0mto\u001b[0m\u001b[0;34m(\u001b[0m\u001b[0mdevice\u001b[0m\u001b[0;34m)\u001b[0m\u001b[0;34m\u001b[0m\u001b[0;34m\u001b[0m\u001b[0m\n\u001b[0m\u001b[1;32m     12\u001b[0m \u001b[0;34m\u001b[0m\u001b[0m\n\u001b[1;32m     13\u001b[0m     \u001b[0;32mreturn\u001b[0m \u001b[0;34m[\u001b[0m\u001b[0marr_pad\u001b[0m\u001b[0;34m,\u001b[0m \u001b[0mlabels_gender\u001b[0m\u001b[0;34m]\u001b[0m\u001b[0;34m\u001b[0m\u001b[0;34m\u001b[0m\u001b[0m\n",
      "\u001b[0;31mKeyboardInterrupt\u001b[0m: "
     ]
    }
   ],
   "source": [
    "train_model(model, dataloaders, criterion, optimizer, num_epochs=10, savename='FFNN_baseline')\n",
    "# в общеи, такая модель переобучается, потому что парметров больше, чем входных данных"
   ]
  },
  {
   "cell_type": "markdown",
   "metadata": {},
   "source": [
    "# Попробуем модель со свертками - тоже не работает на чистых данных"
   ]
  },
  {
   "cell_type": "code",
   "execution_count": 99,
   "metadata": {},
   "outputs": [],
   "source": [
    "class ConvNN(nn.Module):\n",
    "    def __init__(self):\n",
    "        super(ConvNN, self).__init__()\n",
    "        self.conv1 = nn.Conv1d(1, 3, kernel_size= 500, stride=100)\n",
    "        self.relu1 = nn.ReLU()\n",
    "        self.conv2 = nn.Conv1d(3, 3, kernel_size=100, stride = 20)\n",
    "        self.relu2 = nn.ReLU()\n",
    "        self.flatten = nn.Flatten()\n",
    "        self.linear_relu_stack = nn.Sequential(\n",
    "            nn.Linear(105, 32),\n",
    "            nn.ReLU(),\n",
    "            nn.Linear(32, 2),\n",
    "        )\n",
    "\n",
    "    def forward(self, x):\n",
    "        #x = self.flatten(x)\n",
    "        #x = x[:,None,:]\n",
    "        x = self.relu1(self.conv1(x))\n",
    "        x = self.relu2(self.conv2(x))\n",
    "        \n",
    "        x = self.flatten(x)\n",
    "        \n",
    "        #print(x.shape)\n",
    "        logits = self.linear_relu_stack(x)\n",
    "        return logits"
   ]
  },
  {
   "cell_type": "code",
   "execution_count": 103,
   "metadata": {},
   "outputs": [],
   "source": [
    "DIR_TO_SAVE = 'audio_npy/'\n",
    "def collate_batch(batch, path = DIR_TO_SAVE):\n",
    "    arr = []\n",
    "\n",
    "    labels_gender = torch.LongTensor([label for _,label in batch])   \n",
    "    \n",
    "    for train_path in batch:\n",
    "        arr.append(np.load(path + train_path[0][:-4]+'_padded.npy'))\n",
    "     # print(arr[-1].shape)\n",
    "     \n",
    "    arr_pad = torch.Tensor(arr).to(device)\n",
    "    arr_pad = arr_pad[:, None, :]\n",
    "    return [arr_pad, labels_gender]  \n",
    "\n",
    "train_dataloader = DataLoader(train_files, batch_size=128, shuffle=True, \n",
    "                                  collate_fn=collate_batch)\n",
    "\n",
    "val_dataloader = DataLoader(val_files, batch_size=128, shuffle=False, \n",
    "                              collate_fn=collate_batch)\n",
    "\n",
    "dataloaders = {'train': train_dataloader, 'val': val_dataloader}"
   ]
  },
  {
   "cell_type": "code",
   "execution_count": 106,
   "metadata": {},
   "outputs": [],
   "source": [
    "model = ConvNN()\n",
    "model = model.to(device)\n",
    "optimizer = torch.optim.SGD(model.parameters(), lr=1e-6) #, weight_decay=0.0001\n",
    "criterion = nn.CrossEntropyLoss()"
   ]
  },
  {
   "cell_type": "code",
   "execution_count": 107,
   "metadata": {},
   "outputs": [
    {
     "name": "stdout",
     "output_type": "stream",
     "text": [
      "Epoch 0/9\n",
      "----------\n"
     ]
    },
    {
     "name": "stderr",
     "output_type": "stream",
     "text": [
      "100%|██████████| 33/33 [01:16<00:00,  2.31s/it]\n"
     ]
    },
    {
     "name": "stdout",
     "output_type": "stream",
     "text": [
      "train Loss: 0.6919 Acc: 0.5455\n"
     ]
    },
    {
     "name": "stderr",
     "output_type": "stream",
     "text": [
      "100%|██████████| 11/11 [00:24<00:00,  2.25s/it]\n"
     ]
    },
    {
     "name": "stdout",
     "output_type": "stream",
     "text": [
      "val Loss: 0.6927 Acc: 0.5234\n",
      "\n",
      "Epoch 1/9\n",
      "----------\n"
     ]
    },
    {
     "name": "stderr",
     "output_type": "stream",
     "text": [
      "100%|██████████| 33/33 [01:16<00:00,  2.33s/it]\n"
     ]
    },
    {
     "name": "stdout",
     "output_type": "stream",
     "text": [
      "train Loss: 0.6919 Acc: 0.5455\n"
     ]
    },
    {
     "name": "stderr",
     "output_type": "stream",
     "text": [
      "100%|██████████| 11/11 [00:24<00:00,  2.21s/it]\n"
     ]
    },
    {
     "name": "stdout",
     "output_type": "stream",
     "text": [
      "val Loss: 0.6927 Acc: 0.5234\n",
      "\n",
      "Epoch 2/9\n",
      "----------\n"
     ]
    },
    {
     "name": "stderr",
     "output_type": "stream",
     "text": [
      "100%|██████████| 33/33 [01:15<00:00,  2.30s/it]\n"
     ]
    },
    {
     "name": "stdout",
     "output_type": "stream",
     "text": [
      "train Loss: 0.6919 Acc: 0.5455\n"
     ]
    },
    {
     "name": "stderr",
     "output_type": "stream",
     "text": [
      "100%|██████████| 11/11 [00:24<00:00,  2.23s/it]\n"
     ]
    },
    {
     "name": "stdout",
     "output_type": "stream",
     "text": [
      "val Loss: 0.6927 Acc: 0.5234\n",
      "\n",
      "Epoch 3/9\n",
      "----------\n"
     ]
    },
    {
     "name": "stderr",
     "output_type": "stream",
     "text": [
      " 36%|███▋      | 12/33 [00:30<00:52,  2.52s/it]\n"
     ]
    },
    {
     "ename": "KeyboardInterrupt",
     "evalue": "",
     "output_type": "error",
     "traceback": [
      "\u001b[0;31m---------------------------------------------------------------------------\u001b[0m",
      "\u001b[0;31mKeyboardInterrupt\u001b[0m                         Traceback (most recent call last)",
      "\u001b[0;32m<ipython-input-107-1b0fba7721e8>\u001b[0m in \u001b[0;36m<module>\u001b[0;34m\u001b[0m\n\u001b[0;32m----> 1\u001b[0;31m \u001b[0mtrain_model\u001b[0m\u001b[0;34m(\u001b[0m\u001b[0mmodel\u001b[0m\u001b[0;34m,\u001b[0m \u001b[0mdataloaders\u001b[0m\u001b[0;34m,\u001b[0m \u001b[0mcriterion\u001b[0m\u001b[0;34m,\u001b[0m \u001b[0moptimizer\u001b[0m\u001b[0;34m,\u001b[0m \u001b[0mnum_epochs\u001b[0m\u001b[0;34m=\u001b[0m\u001b[0;36m10\u001b[0m\u001b[0;34m,\u001b[0m \u001b[0msavename\u001b[0m\u001b[0;34m=\u001b[0m\u001b[0;34m'Conv_baseline'\u001b[0m\u001b[0;34m)\u001b[0m\u001b[0;34m\u001b[0m\u001b[0;34m\u001b[0m\u001b[0m\n\u001b[0m\u001b[1;32m      2\u001b[0m \u001b[0;31m# в общеи, такая модель переобучается, потому что парметров больше, чем входных данных\u001b[0m\u001b[0;34m\u001b[0m\u001b[0;34m\u001b[0m\u001b[0;34m\u001b[0m\u001b[0m\n",
      "\u001b[0;32m<ipython-input-38-ef1d3827837d>\u001b[0m in \u001b[0;36mtrain_model\u001b[0;34m(model, dataloaders, criterion, optimizer, num_epochs, savename, is_inception)\u001b[0m\n\u001b[1;32m     17\u001b[0m             \u001b[0mrunning_corrects\u001b[0m \u001b[0;34m=\u001b[0m \u001b[0;36m0\u001b[0m\u001b[0;34m\u001b[0m\u001b[0;34m\u001b[0m\u001b[0m\n\u001b[1;32m     18\u001b[0m \u001b[0;34m\u001b[0m\u001b[0m\n\u001b[0;32m---> 19\u001b[0;31m             \u001b[0;32mfor\u001b[0m \u001b[0minputs\u001b[0m\u001b[0;34m,\u001b[0m \u001b[0mlabels\u001b[0m \u001b[0;32min\u001b[0m \u001b[0mtqdm\u001b[0m\u001b[0;34m(\u001b[0m\u001b[0mdataloaders\u001b[0m\u001b[0;34m[\u001b[0m\u001b[0mphase\u001b[0m\u001b[0;34m]\u001b[0m\u001b[0;34m)\u001b[0m\u001b[0;34m:\u001b[0m\u001b[0;34m\u001b[0m\u001b[0;34m\u001b[0m\u001b[0m\n\u001b[0m\u001b[1;32m     20\u001b[0m                 \u001b[0minputs\u001b[0m \u001b[0;34m=\u001b[0m \u001b[0minputs\u001b[0m\u001b[0;34m.\u001b[0m\u001b[0mto\u001b[0m\u001b[0;34m(\u001b[0m\u001b[0mdevice\u001b[0m\u001b[0;34m)\u001b[0m\u001b[0;34m\u001b[0m\u001b[0;34m\u001b[0m\u001b[0m\n\u001b[1;32m     21\u001b[0m                 \u001b[0mlabels\u001b[0m \u001b[0;34m=\u001b[0m \u001b[0mlabels\u001b[0m\u001b[0;34m.\u001b[0m\u001b[0mto\u001b[0m\u001b[0;34m(\u001b[0m\u001b[0mdevice\u001b[0m\u001b[0;34m)\u001b[0m\u001b[0;34m\u001b[0m\u001b[0;34m\u001b[0m\u001b[0m\n",
      "\u001b[0;32m/opt/conda/lib/python3.6/site-packages/tqdm/std.py\u001b[0m in \u001b[0;36m__iter__\u001b[0;34m(self)\u001b[0m\n\u001b[1;32m   1178\u001b[0m \u001b[0;34m\u001b[0m\u001b[0m\n\u001b[1;32m   1179\u001b[0m         \u001b[0;32mtry\u001b[0m\u001b[0;34m:\u001b[0m\u001b[0;34m\u001b[0m\u001b[0;34m\u001b[0m\u001b[0m\n\u001b[0;32m-> 1180\u001b[0;31m             \u001b[0;32mfor\u001b[0m \u001b[0mobj\u001b[0m \u001b[0;32min\u001b[0m \u001b[0miterable\u001b[0m\u001b[0;34m:\u001b[0m\u001b[0;34m\u001b[0m\u001b[0;34m\u001b[0m\u001b[0m\n\u001b[0m\u001b[1;32m   1181\u001b[0m                 \u001b[0;32myield\u001b[0m \u001b[0mobj\u001b[0m\u001b[0;34m\u001b[0m\u001b[0;34m\u001b[0m\u001b[0m\n\u001b[1;32m   1182\u001b[0m                 \u001b[0;31m# Update and possibly print the progressbar.\u001b[0m\u001b[0;34m\u001b[0m\u001b[0;34m\u001b[0m\u001b[0;34m\u001b[0m\u001b[0m\n",
      "\u001b[0;32m/opt/conda/lib/python3.6/site-packages/torch/utils/data/dataloader.py\u001b[0m in \u001b[0;36m__next__\u001b[0;34m(self)\u001b[0m\n\u001b[1;32m    519\u001b[0m             \u001b[0;32mif\u001b[0m \u001b[0mself\u001b[0m\u001b[0;34m.\u001b[0m\u001b[0m_sampler_iter\u001b[0m \u001b[0;32mis\u001b[0m \u001b[0;32mNone\u001b[0m\u001b[0;34m:\u001b[0m\u001b[0;34m\u001b[0m\u001b[0;34m\u001b[0m\u001b[0m\n\u001b[1;32m    520\u001b[0m                 \u001b[0mself\u001b[0m\u001b[0;34m.\u001b[0m\u001b[0m_reset\u001b[0m\u001b[0;34m(\u001b[0m\u001b[0;34m)\u001b[0m\u001b[0;34m\u001b[0m\u001b[0;34m\u001b[0m\u001b[0m\n\u001b[0;32m--> 521\u001b[0;31m             \u001b[0mdata\u001b[0m \u001b[0;34m=\u001b[0m \u001b[0mself\u001b[0m\u001b[0;34m.\u001b[0m\u001b[0m_next_data\u001b[0m\u001b[0;34m(\u001b[0m\u001b[0;34m)\u001b[0m\u001b[0;34m\u001b[0m\u001b[0;34m\u001b[0m\u001b[0m\n\u001b[0m\u001b[1;32m    522\u001b[0m             \u001b[0mself\u001b[0m\u001b[0;34m.\u001b[0m\u001b[0m_num_yielded\u001b[0m \u001b[0;34m+=\u001b[0m \u001b[0;36m1\u001b[0m\u001b[0;34m\u001b[0m\u001b[0;34m\u001b[0m\u001b[0m\n\u001b[1;32m    523\u001b[0m             \u001b[0;32mif\u001b[0m \u001b[0mself\u001b[0m\u001b[0;34m.\u001b[0m\u001b[0m_dataset_kind\u001b[0m \u001b[0;34m==\u001b[0m \u001b[0m_DatasetKind\u001b[0m\u001b[0;34m.\u001b[0m\u001b[0mIterable\u001b[0m \u001b[0;32mand\u001b[0m\u001b[0;31m \u001b[0m\u001b[0;31m\\\u001b[0m\u001b[0;34m\u001b[0m\u001b[0;34m\u001b[0m\u001b[0m\n",
      "\u001b[0;32m/opt/conda/lib/python3.6/site-packages/torch/utils/data/dataloader.py\u001b[0m in \u001b[0;36m_next_data\u001b[0;34m(self)\u001b[0m\n\u001b[1;32m    559\u001b[0m     \u001b[0;32mdef\u001b[0m \u001b[0m_next_data\u001b[0m\u001b[0;34m(\u001b[0m\u001b[0mself\u001b[0m\u001b[0;34m)\u001b[0m\u001b[0;34m:\u001b[0m\u001b[0;34m\u001b[0m\u001b[0;34m\u001b[0m\u001b[0m\n\u001b[1;32m    560\u001b[0m         \u001b[0mindex\u001b[0m \u001b[0;34m=\u001b[0m \u001b[0mself\u001b[0m\u001b[0;34m.\u001b[0m\u001b[0m_next_index\u001b[0m\u001b[0;34m(\u001b[0m\u001b[0;34m)\u001b[0m  \u001b[0;31m# may raise StopIteration\u001b[0m\u001b[0;34m\u001b[0m\u001b[0;34m\u001b[0m\u001b[0m\n\u001b[0;32m--> 561\u001b[0;31m         \u001b[0mdata\u001b[0m \u001b[0;34m=\u001b[0m \u001b[0mself\u001b[0m\u001b[0;34m.\u001b[0m\u001b[0m_dataset_fetcher\u001b[0m\u001b[0;34m.\u001b[0m\u001b[0mfetch\u001b[0m\u001b[0;34m(\u001b[0m\u001b[0mindex\u001b[0m\u001b[0;34m)\u001b[0m  \u001b[0;31m# may raise StopIteration\u001b[0m\u001b[0;34m\u001b[0m\u001b[0;34m\u001b[0m\u001b[0m\n\u001b[0m\u001b[1;32m    562\u001b[0m         \u001b[0;32mif\u001b[0m \u001b[0mself\u001b[0m\u001b[0;34m.\u001b[0m\u001b[0m_pin_memory\u001b[0m\u001b[0;34m:\u001b[0m\u001b[0;34m\u001b[0m\u001b[0;34m\u001b[0m\u001b[0m\n\u001b[1;32m    563\u001b[0m             \u001b[0mdata\u001b[0m \u001b[0;34m=\u001b[0m \u001b[0m_utils\u001b[0m\u001b[0;34m.\u001b[0m\u001b[0mpin_memory\u001b[0m\u001b[0;34m.\u001b[0m\u001b[0mpin_memory\u001b[0m\u001b[0;34m(\u001b[0m\u001b[0mdata\u001b[0m\u001b[0;34m)\u001b[0m\u001b[0;34m\u001b[0m\u001b[0;34m\u001b[0m\u001b[0m\n",
      "\u001b[0;32m/opt/conda/lib/python3.6/site-packages/torch/utils/data/_utils/fetch.py\u001b[0m in \u001b[0;36mfetch\u001b[0;34m(self, possibly_batched_index)\u001b[0m\n\u001b[1;32m     45\u001b[0m         \u001b[0;32melse\u001b[0m\u001b[0;34m:\u001b[0m\u001b[0;34m\u001b[0m\u001b[0;34m\u001b[0m\u001b[0m\n\u001b[1;32m     46\u001b[0m             \u001b[0mdata\u001b[0m \u001b[0;34m=\u001b[0m \u001b[0mself\u001b[0m\u001b[0;34m.\u001b[0m\u001b[0mdataset\u001b[0m\u001b[0;34m[\u001b[0m\u001b[0mpossibly_batched_index\u001b[0m\u001b[0;34m]\u001b[0m\u001b[0;34m\u001b[0m\u001b[0;34m\u001b[0m\u001b[0m\n\u001b[0;32m---> 47\u001b[0;31m         \u001b[0;32mreturn\u001b[0m \u001b[0mself\u001b[0m\u001b[0;34m.\u001b[0m\u001b[0mcollate_fn\u001b[0m\u001b[0;34m(\u001b[0m\u001b[0mdata\u001b[0m\u001b[0;34m)\u001b[0m\u001b[0;34m\u001b[0m\u001b[0;34m\u001b[0m\u001b[0m\n\u001b[0m",
      "\u001b[0;32m<ipython-input-103-5b742c5a34db>\u001b[0m in \u001b[0;36mcollate_batch\u001b[0;34m(batch, path)\u001b[0m\n\u001b[1;32m      9\u001b[0m      \u001b[0;31m# print(arr[-1].shape)\u001b[0m\u001b[0;34m\u001b[0m\u001b[0;34m\u001b[0m\u001b[0;34m\u001b[0m\u001b[0m\n\u001b[1;32m     10\u001b[0m \u001b[0;34m\u001b[0m\u001b[0m\n\u001b[0;32m---> 11\u001b[0;31m     \u001b[0marr_pad\u001b[0m \u001b[0;34m=\u001b[0m \u001b[0mtorch\u001b[0m\u001b[0;34m.\u001b[0m\u001b[0mTensor\u001b[0m\u001b[0;34m(\u001b[0m\u001b[0marr\u001b[0m\u001b[0;34m)\u001b[0m\u001b[0;34m.\u001b[0m\u001b[0mto\u001b[0m\u001b[0;34m(\u001b[0m\u001b[0mdevice\u001b[0m\u001b[0;34m)\u001b[0m\u001b[0;34m\u001b[0m\u001b[0;34m\u001b[0m\u001b[0m\n\u001b[0m\u001b[1;32m     12\u001b[0m     \u001b[0marr_pad\u001b[0m \u001b[0;34m=\u001b[0m \u001b[0marr_pad\u001b[0m\u001b[0;34m[\u001b[0m\u001b[0;34m:\u001b[0m\u001b[0;34m,\u001b[0m \u001b[0;32mNone\u001b[0m\u001b[0;34m,\u001b[0m \u001b[0;34m:\u001b[0m\u001b[0;34m]\u001b[0m\u001b[0;34m\u001b[0m\u001b[0;34m\u001b[0m\u001b[0m\n\u001b[1;32m     13\u001b[0m     \u001b[0;32mreturn\u001b[0m \u001b[0;34m[\u001b[0m\u001b[0marr_pad\u001b[0m\u001b[0;34m,\u001b[0m \u001b[0mlabels_gender\u001b[0m\u001b[0;34m]\u001b[0m\u001b[0;34m\u001b[0m\u001b[0;34m\u001b[0m\u001b[0m\n",
      "\u001b[0;31mKeyboardInterrupt\u001b[0m: "
     ]
    }
   ],
   "source": [
    "train_model(model, dataloaders, criterion, optimizer, num_epochs=10, savename='Conv_baseline')\n",
    "# в общеи, такая модель переобучается, потому что парметров больше, чем входных данных"
   ]
  },
  {
   "cell_type": "markdown",
   "metadata": {},
   "source": [
    "# References\n",
    "\n",
    "* https://stackoverflow.com/questions/53633177/how-to-read-a-mp3-audio-file-into-a-numpy-array-save-a-numpy-array-to-mp3\n",
    "* https://towardsdatascience.com/audio-classification-with-pytorchs-ecosystem-tools-5de2b66e640c\n",
    "* https://pytorch.org/tutorials/beginner/finetuning_torchvision_models_tutorial.html\n"
   ]
  },
  {
   "cell_type": "code",
   "execution_count": null,
   "metadata": {},
   "outputs": [],
   "source": []
  }
 ],
 "metadata": {
  "kernelspec": {
   "display_name": "Python 3",
   "language": "python",
   "name": "python3"
  },
  "language_info": {
   "codemirror_mode": {
    "name": "ipython",
    "version": 3
   },
   "file_extension": ".py",
   "mimetype": "text/x-python",
   "name": "python",
   "nbconvert_exporter": "python",
   "pygments_lexer": "ipython3",
   "version": "3.6.8"
  }
 },
 "nbformat": 4,
 "nbformat_minor": 2
}
