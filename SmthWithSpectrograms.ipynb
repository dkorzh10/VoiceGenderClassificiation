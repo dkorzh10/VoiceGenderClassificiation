{
 "cells": [
  {
   "cell_type": "markdown",
   "metadata": {},
   "source": [
    "# Делаем все с самого начала по гидам"
   ]
  },
  {
   "cell_type": "code",
   "execution_count": null,
   "metadata": {},
   "outputs": [],
   "source": [
    "# есть таблицы с данными"
   ]
  },
  {
   "cell_type": "code",
   "execution_count": 1,
   "metadata": {},
   "outputs": [],
   "source": [
    "import torchaudio\n",
    "import pandas as pd\n",
    "from pydub import AudioSegment\n",
    "import torch\n",
    "import torch.nn as nn\n",
    "from torch.utils.data import Dataset\n",
    "from torchvision import datasets\n",
    "from torchvision.transforms import ToTensor\n",
    "import matplotlib.pyplot as plt\n",
    "import torchvision.models as models\n",
    "import os\n",
    "import time\n",
    "import copy\n",
    "from tqdm import tqdm\n",
    "import numpy as np"
   ]
  },
  {
   "cell_type": "code",
   "execution_count": 2,
   "metadata": {},
   "outputs": [],
   "source": [
    "df = pd.read_csv('train_preproc_balanced.csv')"
   ]
  },
  {
   "cell_type": "code",
   "execution_count": 3,
   "metadata": {},
   "outputs": [
    {
     "data": {
      "text/html": [
       "<div>\n",
       "<style scoped>\n",
       "    .dataframe tbody tr th:only-of-type {\n",
       "        vertical-align: middle;\n",
       "    }\n",
       "\n",
       "    .dataframe tbody tr th {\n",
       "        vertical-align: top;\n",
       "    }\n",
       "\n",
       "    .dataframe thead th {\n",
       "        text-align: right;\n",
       "    }\n",
       "</style>\n",
       "<table border=\"1\" class=\"dataframe\">\n",
       "  <thead>\n",
       "    <tr style=\"text-align: right;\">\n",
       "      <th></th>\n",
       "      <th>Unnamed: 0</th>\n",
       "      <th>client_id</th>\n",
       "      <th>path</th>\n",
       "      <th>gender</th>\n",
       "    </tr>\n",
       "  </thead>\n",
       "  <tbody>\n",
       "    <tr>\n",
       "      <th>0</th>\n",
       "      <td>0</td>\n",
       "      <td>5e949643688ea0d3800197ff7d1c8afe7936cffbcee3a0...</td>\n",
       "      <td>common_voice_ru_18892576.mp3</td>\n",
       "      <td>0</td>\n",
       "    </tr>\n",
       "    <tr>\n",
       "      <th>1</th>\n",
       "      <td>1</td>\n",
       "      <td>237823cbf2c238371c07276002cf9731316ac0f11c6528...</td>\n",
       "      <td>common_voice_ru_19091861.mp3</td>\n",
       "      <td>1</td>\n",
       "    </tr>\n",
       "    <tr>\n",
       "      <th>2</th>\n",
       "      <td>2</td>\n",
       "      <td>299f0dd85f2861f679e92991dc15e9adbdcc7cb8ce7e6d...</td>\n",
       "      <td>common_voice_ru_18864494.mp3</td>\n",
       "      <td>1</td>\n",
       "    </tr>\n",
       "    <tr>\n",
       "      <th>3</th>\n",
       "      <td>3</td>\n",
       "      <td>e134f72e7ee1e4a3bc648a8ff25da594867d8b03d3e57e...</td>\n",
       "      <td>common_voice_ru_25405041.mp3</td>\n",
       "      <td>1</td>\n",
       "    </tr>\n",
       "    <tr>\n",
       "      <th>4</th>\n",
       "      <td>4</td>\n",
       "      <td>560d9b4832633ea25c9ae33aad194caeae7050194cd4e6...</td>\n",
       "      <td>common_voice_ru_18898619.mp3</td>\n",
       "      <td>1</td>\n",
       "    </tr>\n",
       "  </tbody>\n",
       "</table>\n",
       "</div>"
      ],
      "text/plain": [
       "   Unnamed: 0                                          client_id  \\\n",
       "0           0  5e949643688ea0d3800197ff7d1c8afe7936cffbcee3a0...   \n",
       "1           1  237823cbf2c238371c07276002cf9731316ac0f11c6528...   \n",
       "2           2  299f0dd85f2861f679e92991dc15e9adbdcc7cb8ce7e6d...   \n",
       "3           3  e134f72e7ee1e4a3bc648a8ff25da594867d8b03d3e57e...   \n",
       "4           4  560d9b4832633ea25c9ae33aad194caeae7050194cd4e6...   \n",
       "\n",
       "                           path  gender  \n",
       "0  common_voice_ru_18892576.mp3       0  \n",
       "1  common_voice_ru_19091861.mp3       1  \n",
       "2  common_voice_ru_18864494.mp3       1  \n",
       "3  common_voice_ru_25405041.mp3       1  \n",
       "4  common_voice_ru_18898619.mp3       1  "
      ]
     },
     "execution_count": 3,
     "metadata": {},
     "output_type": "execute_result"
    }
   ],
   "source": [
    "df.head()"
   ]
  },
  {
   "cell_type": "code",
   "execution_count": 4,
   "metadata": {},
   "outputs": [
    {
     "data": {
      "text/plain": [
       "'common_voice_ru_18892576.mp3'"
      ]
     },
     "execution_count": 4,
     "metadata": {},
     "output_type": "execute_result"
    }
   ],
   "source": [
    "df.path[0]"
   ]
  },
  {
   "cell_type": "markdown",
   "metadata": {},
   "source": [
    "### поиграем немного с torchaudio"
   ]
  },
  {
   "cell_type": "code",
   "execution_count": 5,
   "metadata": {},
   "outputs": [],
   "source": [
    "waveform, sr = torchaudio.load(\"./cv-corpus-7.0-2021-07-21/ru/clips/\"+df.path[0])"
   ]
  },
  {
   "cell_type": "code",
   "execution_count": 6,
   "metadata": {},
   "outputs": [
    {
     "data": {
      "text/plain": [
       "tensor([[ 0.0000e+00,  0.0000e+00,  0.0000e+00,  ..., -2.0146e-05,\n",
       "         -7.2062e-05, -2.5558e-04]])"
      ]
     },
     "execution_count": 6,
     "metadata": {},
     "output_type": "execute_result"
    }
   ],
   "source": [
    "waveform"
   ]
  },
  {
   "cell_type": "code",
   "execution_count": 7,
   "metadata": {},
   "outputs": [
    {
     "data": {
      "text/plain": [
       "torch.Size([1, 164736])"
      ]
     },
     "execution_count": 7,
     "metadata": {},
     "output_type": "execute_result"
    }
   ],
   "source": [
    "waveform.shape"
   ]
  },
  {
   "cell_type": "code",
   "execution_count": 8,
   "metadata": {},
   "outputs": [
    {
     "data": {
      "text/plain": [
       "48000"
      ]
     },
     "execution_count": 8,
     "metadata": {},
     "output_type": "execute_result"
    }
   ],
   "source": [
    "sr"
   ]
  },
  {
   "cell_type": "code",
   "execution_count": 9,
   "metadata": {},
   "outputs": [],
   "source": [
    "waveform = AudioSegment.from_mp3(\"./cv-corpus-7.0-2021-07-21/ru/clips/\"+df.path[0])\n",
    "waveform = waveform.set_channels(1)\n",
    "waveform = waveform.get_array_of_samples()\n",
    "waveform = torch.tensor(waveform, dtype = torch.float)\n",
    "waveform = torch.reshape(waveform, (1,waveform.shape[0]))"
   ]
  },
  {
   "cell_type": "code",
   "execution_count": 10,
   "metadata": {},
   "outputs": [],
   "source": [
    "Spectrogram = torchaudio.transforms.Spectrogram()(waveform)"
   ]
  },
  {
   "cell_type": "code",
   "execution_count": 11,
   "metadata": {},
   "outputs": [
    {
     "data": {
      "text/plain": [
       "torch.Size([1, 201, 830])"
      ]
     },
     "execution_count": 11,
     "metadata": {},
     "output_type": "execute_result"
    }
   ],
   "source": [
    "Spectrogram.shape"
   ]
  },
  {
   "cell_type": "code",
   "execution_count": 12,
   "metadata": {},
   "outputs": [
    {
     "name": "stderr",
     "output_type": "stream",
     "text": [
      "/opt/conda/lib/python3.6/site-packages/torchaudio/functional/functional.py:433: UserWarning: At least one mel filterbank has all zero values. The value for `n_mels` (128) may be set too high. Or, the value for `n_freqs` (201) may be set too low.\n",
      "  \"At least one mel filterbank has all zero values. \"\n"
     ]
    }
   ],
   "source": [
    "Mel_Spectrogram = torchaudio.transforms.MelSpectrogram()(waveform)"
   ]
  },
  {
   "cell_type": "code",
   "execution_count": 22,
   "metadata": {},
   "outputs": [],
   "source": [
    "n_fft = 400.0\n",
    "frame_length = n_fft / sample_rate * 1000.0\n",
    "frame_shift = frame_length / 2.0\n",
    "\n",
    "params = {\n",
    "    \"channel\": 0,\n",
    "    \"dither\": 0.0,\n",
    "    \"window_type\": \"hanning\",\n",
    "    \"frame_length\": frame_length,\n",
    "    \"frame_shift\": frame_shift,\n",
    "    \"remove_dc_offset\": False,\n",
    "    \"round_to_power_of_two\": False,\n",
    "    \"sample_frequency\": sample_rate,\n",
    "}\n",
    "mfcc = torchaudio.compliance.kaldi.mfcc(waveform, **params)"
   ]
  },
  {
   "cell_type": "code",
   "execution_count": 27,
   "metadata": {},
   "outputs": [
    {
     "data": {
      "text/plain": [
       "[<matplotlib.lines.Line2D at 0x7fa59c5720b8>,\n",
       " <matplotlib.lines.Line2D at 0x7fa59c572240>,\n",
       " <matplotlib.lines.Line2D at 0x7fa59c572390>,\n",
       " <matplotlib.lines.Line2D at 0x7fa59c5724e0>,\n",
       " <matplotlib.lines.Line2D at 0x7fa59c572630>,\n",
       " <matplotlib.lines.Line2D at 0x7fa59c572780>,\n",
       " <matplotlib.lines.Line2D at 0x7fa59c5728d0>,\n",
       " <matplotlib.lines.Line2D at 0x7fa59c572a20>,\n",
       " <matplotlib.lines.Line2D at 0x7fa59c572b70>,\n",
       " <matplotlib.lines.Line2D at 0x7fa59c572cc0>,\n",
       " <matplotlib.lines.Line2D at 0x7fa59c5b4cc0>,\n",
       " <matplotlib.lines.Line2D at 0x7fa59c572f28>,\n",
       " <matplotlib.lines.Line2D at 0x7fa59c57c0b8>]"
      ]
     },
     "execution_count": 27,
     "metadata": {},
     "output_type": "execute_result"
    },
    {
     "data": {
      "image/png": "[encoded data removed]",
      "text/plain": [
       "<Figure size 432x288 with 1 Axes>"
      ]
     },
     "metadata": {
      "needs_background": "light"
     },
     "output_type": "display_data"
    }
   ],
   "source": [
    "plt.plot(mfcc)"
   ]
  },
  {
   "cell_type": "markdown",
   "metadata": {},
   "source": [
    "## сделаем основу - кастомный датасет"
   ]
  },
  {
   "cell_type": "code",
   "execution_count": 12,
   "metadata": {},
   "outputs": [],
   "source": [
    "AUDIO_DIR = \"./cv-corpus-7.0-2021-07-21/ru/clips/\"\n",
    "ANN_FILE = 'train_preproc_balanced.csv'\n",
    "\n",
    "class CustomAudioDataset(Dataset):\n",
    "\n",
    "    def __init__(self, audio_dir = AUDIO_DIR, annotation_file = ANN_FILE, resample_freq =16000,\n",
    "                 transform=None, target_transform=None, n_mels = 64):\n",
    "        df = pd.read_csv(annotation_file)\n",
    "        self.audio_labels = df[['path', 'gender']].copy() #pd.read_csv(annotation_file, names=['paths', 'gender'])\n",
    "        print(self.audio_labels)\n",
    "        self.audio_dir = audio_dir\n",
    "        self.transform = transform\n",
    "        self.target_transform = target_transform\n",
    "        self.resample = resample_freq\n",
    "        self.n_mels = n_mels\n",
    "        \n",
    "    def __len__(self):\n",
    "        return len(self.audio_labels)\n",
    "    \n",
    "    def __getitem__(self, idx):\n",
    "        \n",
    "#         labels = []\n",
    "#         for i in range(0,len(self.audio_labels)):\n",
    "#              labels.append(self.audio_labels[i, 1])\n",
    "\n",
    "                \n",
    "#         label = labels[idx]\n",
    "        label = self.audio_labels.iloc[idx, 1]\n",
    "        #print(label)\n",
    "        #label = int(label)\n",
    "        label = torch.tensor(label)\n",
    "        \n",
    "        audio_path = os.path.join(self.audio_dir, self.audio_labels.iloc[idx, 0])\n",
    "        waveform , sr = torchaudio.load(audio_path)\n",
    "        \n",
    "#         waveform = torch.reshape(waveform, (1, waveform.shape[0]))\n",
    "        \n",
    "        if self.resample > 0:\n",
    "            resample_transform = torchaudio.transforms.Resample(orig_freq=sr, new_freq=self.resample)\n",
    "            waveform = resample_transform(waveform)\n",
    "        \n",
    "#         specgram = torchaudio.transforms.Spectrogram()(waveform)\n",
    "#         # convert 1 channel to 3 channels applying imagenet models\n",
    "#         specgram = specgram.repeat(3, 1, 1)\n",
    "#         if self.transform:\n",
    "#             #probably, we have to do transpose\n",
    "#             specgram = self.transform(specgram)\n",
    "#         if self.target_transform:\n",
    "#             label = self.target_transform(label)\n",
    "            \n",
    "            \n",
    "        melspectrogram_transform = torchaudio.transforms.MelSpectrogram(sample_rate=self.resample, n_mels=self.n_mels)\n",
    "        melspectrogram = melspectrogram_transform(waveform)\n",
    "        melspectogram_db = torchaudio.transforms.AmplitudeToDB()(melspectrogram)\n",
    "        #print(melspectogram_db.shape)\n",
    "        #Make sure all spectrograms are the same size\n",
    "        fixed_length = 3 * (self.resample//100) #//200\n",
    "        if melspectogram_db.shape[2] < fixed_length:\n",
    "            melspectogram_db = torch.nn.functional.pad(\n",
    "              melspectogram_db, (0, fixed_length - melspectogram_db.shape[2]))\n",
    "        else:\n",
    "            melspectogram_db = melspectogram_db[:, :, :fixed_length]\n",
    "\n",
    "        return melspectogram_db, label #soundData, self.resample, melspectogram_db, self.labels[index]\n",
    "        \n",
    "#         return specgram, label"
   ]
  },
  {
   "cell_type": "code",
   "execution_count": 37,
   "metadata": {},
   "outputs": [],
   "source": [
    "df = pd.read_csv('train_preproc_balanced.csv')\n",
    "df.dtypes\n",
    "df = df.sample(5556)\n",
    "train_df = df[0:4556]\n",
    "val_df = df[4556:]"
   ]
  },
  {
   "cell_type": "code",
   "execution_count": 40,
   "metadata": {},
   "outputs": [
    {
     "data": {
      "text/plain": [
       "Unnamed: 0    0\n",
       "client_id     0\n",
       "path          0\n",
       "gender        0\n",
       "dtype: int64"
      ]
     },
     "execution_count": 40,
     "metadata": {},
     "output_type": "execute_result"
    }
   ],
   "source": [
    "# df.isna().sum()"
   ]
  },
  {
   "cell_type": "code",
   "execution_count": 38,
   "metadata": {},
   "outputs": [
    {
     "data": {
      "text/plain": [
       "1    2469\n",
       "0    2087\n",
       "Name: gender, dtype: int64"
      ]
     },
     "execution_count": 38,
     "metadata": {},
     "output_type": "execute_result"
    }
   ],
   "source": [
    "# train_df.gender.value_counts()"
   ]
  },
  {
   "cell_type": "code",
   "execution_count": 5,
   "metadata": {
    "scrolled": true
   },
   "outputs": [],
   "source": [
    "# val_df.head()"
   ]
  },
  {
   "cell_type": "code",
   "execution_count": 41,
   "metadata": {},
   "outputs": [],
   "source": [
    "train_df.to_csv('train_part.csv')\n",
    "val_df.to_csv('val_part.csv')"
   ]
  },
  {
   "cell_type": "code",
   "execution_count": null,
   "metadata": {},
   "outputs": [],
   "source": []
  },
  {
   "cell_type": "code",
   "execution_count": 13,
   "metadata": {},
   "outputs": [
    {
     "name": "stdout",
     "output_type": "stream",
     "text": [
      "                              path  gender\n",
      "0     common_voice_ru_19348204.mp3       1\n",
      "1     common_voice_ru_26096461.mp3       0\n",
      "2     common_voice_ru_21442369.mp3       1\n",
      "3     common_voice_ru_18932545.mp3       0\n",
      "4     common_voice_ru_18930487.mp3       0\n",
      "...                            ...     ...\n",
      "4551  common_voice_ru_21932268.mp3       1\n",
      "4552  common_voice_ru_24455277.mp3       0\n",
      "4553  common_voice_ru_20984717.mp3       1\n",
      "4554  common_voice_ru_20415228.mp3       1\n",
      "4555  common_voice_ru_23976328.mp3       0\n",
      "\n",
      "[4556 rows x 2 columns]\n",
      "                             path  gender\n",
      "0    common_voice_ru_18932807.mp3       0\n",
      "1    common_voice_ru_21715318.mp3       0\n",
      "2    common_voice_ru_18881237.mp3       1\n",
      "3    common_voice_ru_18914271.mp3       0\n",
      "4    common_voice_ru_20454779.mp3       0\n",
      "..                            ...     ...\n",
      "995  common_voice_ru_24455370.mp3       0\n",
      "996  common_voice_ru_18919711.mp3       0\n",
      "997  common_voice_ru_18922429.mp3       0\n",
      "998  common_voice_ru_18858406.mp3       1\n",
      "999  common_voice_ru_21552978.mp3       1\n",
      "\n",
      "[1000 rows x 2 columns]\n"
     ]
    }
   ],
   "source": [
    "train_dataset = CustomAudioDataset(annotation_file = 'train_part.csv')\n",
    "val_dataset = CustomAudioDataset(annotation_file = 'val_part.csv')"
   ]
  },
  {
   "cell_type": "code",
   "execution_count": 14,
   "metadata": {},
   "outputs": [],
   "source": [
    "from torch.utils.data import DataLoader\n",
    "\n",
    "train_dataloader = DataLoader(train_dataset, batch_size=16, shuffle=True, num_workers=4)\n",
    "val_dataloader = DataLoader(val_dataset, batch_size=16, shuffle=True, num_workers=4)"
   ]
  },
  {
   "cell_type": "code",
   "execution_count": 15,
   "metadata": {},
   "outputs": [
    {
     "data": {
      "text/plain": [
       "40.0"
      ]
     },
     "execution_count": 15,
     "metadata": {},
     "output_type": "execute_result"
    }
   ],
   "source": [
    "16000/400"
   ]
  },
  {
   "cell_type": "code",
   "execution_count": 16,
   "metadata": {},
   "outputs": [
    {
     "data": {
      "text/plain": [
       "tensor([1, 1, 0, 1, 1, 1, 1, 0, 1, 1, 0, 0, 0, 1, 0, 1])"
      ]
     },
     "execution_count": 16,
     "metadata": {},
     "output_type": "execute_result"
    }
   ],
   "source": [
    "batch, lab = next(iter(train_dataloader))\n",
    "lab"
   ]
  },
  {
   "cell_type": "code",
   "execution_count": 17,
   "metadata": {},
   "outputs": [
    {
     "name": "stdout",
     "output_type": "stream",
     "text": [
      "Sun Jan  9 11:10:27 2022       \n",
      "+-----------------------------------------------------------------------------+\n",
      "| NVIDIA-SMI 450.102.04   Driver Version: 450.102.04   CUDA Version: 11.0     |\n",
      "|-------------------------------+----------------------+----------------------+\n",
      "| GPU  Name        Persistence-M| Bus-Id        Disp.A | Volatile Uncorr. ECC |\n",
      "| Fan  Temp  Perf  Pwr:Usage/Cap|         Memory-Usage | GPU-Util  Compute M. |\n",
      "|                               |                      |               MIG M. |\n",
      "|===============================+======================+======================|\n",
      "|   0  Tesla V100-SXM2...  Off  | 00000000:06:00.0 Off |                    0 |\n",
      "| N/A   35C    P0    55W / 300W |   7621MiB / 16160MiB |      0%      Default |\n",
      "|                               |                      |                  N/A |\n",
      "+-------------------------------+----------------------+----------------------+\n",
      "|   1  Tesla V100-SXM2...  Off  | 00000000:07:00.0 Off |                    0 |\n",
      "| N/A   35C    P0    42W / 300W |      3MiB / 16160MiB |      0%      Default |\n",
      "|                               |                      |                  N/A |\n",
      "+-------------------------------+----------------------+----------------------+\n",
      "|   2  Tesla V100-SXM2...  Off  | 00000000:0A:00.0 Off |                    0 |\n",
      "| N/A   37C    P0    56W / 300W |   1706MiB / 16160MiB |      0%      Default |\n",
      "|                               |                      |                  N/A |\n",
      "+-------------------------------+----------------------+----------------------+\n",
      "|   3  Tesla V100-SXM2...  Off  | 00000000:0B:00.0 Off |                    0 |\n",
      "| N/A   35C    P0    56W / 300W |   3694MiB / 16160MiB |      0%      Default |\n",
      "|                               |                      |                  N/A |\n",
      "+-------------------------------+----------------------+----------------------+\n",
      "|   4  Tesla V100-SXM2...  Off  | 00000000:85:00.0 Off |                    0 |\n",
      "| N/A   33C    P0    43W / 300W |      3MiB / 16160MiB |      0%      Default |\n",
      "|                               |                      |                  N/A |\n",
      "+-------------------------------+----------------------+----------------------+\n",
      "|   5  Tesla V100-SXM2...  Off  | 00000000:86:00.0 Off |                    0 |\n",
      "| N/A   34C    P0    42W / 300W |      3MiB / 16160MiB |      0%      Default |\n",
      "|                               |                      |                  N/A |\n",
      "+-------------------------------+----------------------+----------------------+\n",
      "|   6  Tesla V100-SXM2...  Off  | 00000000:89:00.0 Off |                    0 |\n",
      "| N/A   39C    P0    58W / 300W |   1922MiB / 16160MiB |      0%      Default |\n",
      "|                               |                      |                  N/A |\n",
      "+-------------------------------+----------------------+----------------------+\n",
      "|   7  Tesla V100-SXM2...  Off  | 00000000:8A:00.0 Off |                    0 |\n",
      "| N/A   34C    P0    57W / 300W |   3328MiB / 16160MiB |      0%      Default |\n",
      "|                               |                      |                  N/A |\n",
      "+-------------------------------+----------------------+----------------------+\n",
      "                                                                               \n",
      "+-----------------------------------------------------------------------------+\n",
      "| Processes:                                                                  |\n",
      "|  GPU   GI   CI        PID   Type   Process name                  GPU Memory |\n",
      "|        ID   ID                                                   Usage      |\n",
      "|=============================================================================|\n",
      "+-----------------------------------------------------------------------------+\n"
     ]
    }
   ],
   "source": [
    "!nvidia-smi"
   ]
  },
  {
   "cell_type": "code",
   "execution_count": 18,
   "metadata": {},
   "outputs": [],
   "source": [
    "device = torch.device('cuda:5' if torch.cuda.is_available() else 'cpu') \n",
    "classes =2 \n",
    "\n",
    "model = models.resnet18(pretrained=True)\n",
    "model.conv1=nn.Conv2d(1, model.conv1.out_channels, \n",
    "                      kernel_size=model.conv1.kernel_size[0], \n",
    "                      stride=model.conv1.stride[0], \n",
    "                      padding=model.conv1.padding[0])\n",
    "num_ftrs = model.fc.in_features\n",
    "model.fc = nn.Linear(num_ftrs, classes)\n",
    "\n",
    "model = model.to(device)\n",
    "\n",
    "optimizer = torch.optim.SGD(model.parameters(), lr = 0.001, momentum = 0.9)\n",
    "scheduler = torch.optim.lr_scheduler.StepLR(optimizer, step_size = 8, gamma = 0.1)\n",
    "criterion = nn.CrossEntropyLoss()"
   ]
  },
  {
   "cell_type": "code",
   "execution_count": 19,
   "metadata": {},
   "outputs": [],
   "source": [
    "def train_model(model, dataloaders, criterion, optimizer, num_epochs=10, scheduler= None,\n",
    "                savename='ADDITIONAL_TASK_BEST', is_inception=False):\n",
    "    since = time.time()\n",
    "    val_acc_history = []\n",
    "    best_model_wts = copy.deepcopy(model.state_dict())\n",
    "    best_acc = 0.0\n",
    "\n",
    "    for epoch in range(num_epochs):\n",
    "        print('Epoch {}/{}'.format(epoch, num_epochs - 1))\n",
    "        print('-' * 10)\n",
    "        for phase in ['train', 'val']:\n",
    "            if phase == 'train':\n",
    "                model.train()\n",
    "                \n",
    "            else:\n",
    "                model.eval()\n",
    "\n",
    "            running_loss = 0.0\n",
    "            running_corrects = 0\n",
    "            \n",
    "            for inputs, labels in tqdm(dataloaders[phase]):\n",
    "                inputs = inputs.to(device)\n",
    "                labels = labels.to(device)\n",
    "\n",
    "                optimizer.zero_grad()\n",
    "\n",
    "                # forward\n",
    "                # track history if only in train\n",
    "                with torch.set_grad_enabled(phase == 'train'):\n",
    "                    outputs = model(inputs)\n",
    "                    loss = criterion(outputs, labels)\n",
    "\n",
    "#                     if is_inception and phase == 'train':\n",
    "#                         # From https://discuss.pytorch.org/t/how-to-optimize-inception-model-with-auxiliary-classifiers/7958\n",
    "#                         outputs, aux_outputs = model(inputs)\n",
    "#                         loss1 = criterion(outputs, labels)\n",
    "#                         loss2 = criterion(aux_outputs, labels)\n",
    "#                         loss = loss1 + 0.4*loss2\n",
    "#                     else:\n",
    "#                         outputs = model(inputs)\n",
    "#                         loss = criterion(outputs, labels)\n",
    "\n",
    "                    _, preds = torch.max(outputs, 1)\n",
    "\n",
    "                    # backward + optimize only if in training phase\n",
    "                    if phase == 'train':\n",
    "                        loss.backward()\n",
    "                        optimizer.step()\n",
    "                        \n",
    "\n",
    "                # statistics\n",
    "                running_loss += loss.item() * inputs.size(0)\n",
    "                running_corrects += torch.sum(preds == labels.data)\n",
    "\n",
    "            epoch_loss = running_loss / len(dataloaders[phase].dataset)\n",
    "            epoch_acc = running_corrects.double() / len(dataloaders[phase].dataset)\n",
    "\n",
    "            print('{} Loss: {:.4f} Acc: {:.4f}'.format(phase, epoch_loss, epoch_acc))\n",
    "            if phase=='train':\n",
    "                scheduler.step()\n",
    "                \n",
    "            # deep copy the model\n",
    "            if phase == 'val' and epoch_acc > best_acc:\n",
    "                best_acc = epoch_acc\n",
    "                best_model_wts = copy.deepcopy(model.state_dict())\n",
    "                torch.save(model.state_dict(), savename+'.pt')\n",
    "            if phase == 'val':\n",
    "                val_acc_history.append(epoch_acc)\n",
    "\n",
    "        print()\n",
    "\n",
    "    time_elapsed = time.time() - since\n",
    "    print('Training complete in {:.0f}m {:.0f}s'.format(time_elapsed // 60, time_elapsed % 60))\n",
    "    print('Best val Acc: {:4f}'.format(best_acc))\n",
    "\n",
    "    # load best model weights\n",
    "    model.load_state_dict(best_model_wts)\n",
    "    \n",
    "    return model, val_acc_history\n",
    "\n"
   ]
  },
  {
   "cell_type": "code",
   "execution_count": 20,
   "metadata": {},
   "outputs": [],
   "source": [
    "dataloaders = {'train': train_dataloader, 'val': val_dataloader}"
   ]
  },
  {
   "cell_type": "code",
   "execution_count": 22,
   "metadata": {},
   "outputs": [
    {
     "name": "stdout",
     "output_type": "stream",
     "text": [
      "Epoch 0/2\n",
      "----------\n"
     ]
    },
    {
     "name": "stderr",
     "output_type": "stream",
     "text": [
      "100%|██████████| 285/285 [00:15<00:00, 18.42it/s]\n"
     ]
    },
    {
     "name": "stdout",
     "output_type": "stream",
     "text": [
      "train Loss: 0.0106 Acc: 0.9974\n"
     ]
    },
    {
     "name": "stderr",
     "output_type": "stream",
     "text": [
      "100%|██████████| 63/63 [00:03<00:00, 17.15it/s]\n"
     ]
    },
    {
     "name": "stdout",
     "output_type": "stream",
     "text": [
      "val Loss: 0.0101 Acc: 0.9980\n",
      "\n",
      "Epoch 1/2\n",
      "----------\n"
     ]
    },
    {
     "name": "stderr",
     "output_type": "stream",
     "text": [
      "100%|██████████| 285/285 [00:14<00:00, 19.20it/s]\n"
     ]
    },
    {
     "name": "stdout",
     "output_type": "stream",
     "text": [
      "train Loss: 0.0034 Acc: 0.9993\n"
     ]
    },
    {
     "name": "stderr",
     "output_type": "stream",
     "text": [
      "100%|██████████| 63/63 [00:03<00:00, 16.78it/s]\n"
     ]
    },
    {
     "name": "stdout",
     "output_type": "stream",
     "text": [
      "val Loss: 0.0061 Acc: 0.9990\n",
      "\n",
      "Epoch 2/2\n",
      "----------\n"
     ]
    },
    {
     "name": "stderr",
     "output_type": "stream",
     "text": [
      "100%|██████████| 285/285 [00:15<00:00, 18.63it/s]\n"
     ]
    },
    {
     "name": "stdout",
     "output_type": "stream",
     "text": [
      "train Loss: 0.0037 Acc: 0.9989\n"
     ]
    },
    {
     "name": "stderr",
     "output_type": "stream",
     "text": [
      "100%|██████████| 63/63 [00:03<00:00, 16.70it/s]"
     ]
    },
    {
     "name": "stdout",
     "output_type": "stream",
     "text": [
      "val Loss: 0.0058 Acc: 0.9990\n",
      "\n",
      "Training complete in 0m 57s\n",
      "Best val Acc: 0.999000\n"
     ]
    },
    {
     "name": "stderr",
     "output_type": "stream",
     "text": [
      "\n"
     ]
    }
   ],
   "source": [
    "model, val_acc_history = train_model(model, dataloaders, criterion, optimizer, num_epochs=3,scheduler= scheduler, \n",
    "            savename='MelsSpecsResnet', is_inception=False)\n",
    "    \n"
   ]
  },
  {
   "cell_type": "code",
   "execution_count": 24,
   "metadata": {},
   "outputs": [
    {
     "name": "stdout",
     "output_type": "stream",
     "text": [
      "                              path  gender\n",
      "0     common_voice_ru_26778765.mp3       0\n",
      "1     common_voice_ru_27058803.mp3       1\n",
      "2     common_voice_ru_26807715.mp3       0\n",
      "3     common_voice_ru_26774623.mp3       0\n",
      "4     common_voice_ru_19921774.mp3       1\n",
      "...                            ...     ...\n",
      "3848  common_voice_ru_25157427.mp3       1\n",
      "3849  common_voice_ru_25157428.mp3       1\n",
      "3850  common_voice_ru_25157430.mp3       1\n",
      "3851  common_voice_ru_25157431.mp3       1\n",
      "3852  common_voice_ru_25157433.mp3       1\n",
      "\n",
      "[3853 rows x 2 columns]\n"
     ]
    }
   ],
   "source": [
    "test_dataset = CustomAudioDataset(annotation_file = 'test_dropna.csv')\n",
    "test_dataloader = DataLoader(test_dataset, batch_size=16, shuffle=True, num_workers=4)"
   ]
  },
  {
   "cell_type": "code",
   "execution_count": 81,
   "metadata": {},
   "outputs": [
    {
     "name": "stderr",
     "output_type": "stream",
     "text": [
      "100%|██████████| 241/241 [00:13<00:00, 17.60it/s]"
     ]
    },
    {
     "name": "stdout",
     "output_type": "stream",
     "text": [
      "test Loss: 0.2547 Acc: 0.9390\n"
     ]
    },
    {
     "name": "stderr",
     "output_type": "stream",
     "text": [
      "\n"
     ]
    }
   ],
   "source": [
    "model = model.eval()\n",
    "phase = 'test'\n",
    "running_loss = 0.0\n",
    "running_corrects = 0\n",
    "y = []\n",
    "y_pred_0 = []\n",
    "y_pred_1 = []\n",
    "for inputs, labels in tqdm(test_dataloader):\n",
    "    inputs = inputs.to(device)\n",
    "    labels = labels.to(device)\n",
    "    y.append(list(labels.view(-1).detach().cpu()))\n",
    "\n",
    "    optimizer.zero_grad()\n",
    "\n",
    "    # forward\n",
    "    # track history if only in train\n",
    "    with torch.set_grad_enabled(False):\n",
    "        outputs = model(inputs)\n",
    "        m = nn.Softmax(dim=1)\n",
    "        q = m(outputs)\n",
    "        \n",
    "        y_pred_0.append(list(q[:,0].detach().cpu()))\n",
    "        y_pred_1.append(list(q[:,1].detach().cpu()))\n",
    "        loss = criterion(outputs, labels)\n",
    "        _, preds = torch.max(outputs, 1)\n",
    "        y_pred.append(preds.view(-1))\n",
    "\n",
    "    # statistics\n",
    "    running_loss += loss.item() * inputs.size(0)\n",
    "    running_corrects += torch.sum(preds == labels.data)\n",
    "\n",
    "epoch_loss = running_loss / len(test_dataloader.dataset)\n",
    "epoch_acc = running_corrects.double() / len(test_dataloader.dataset)\n",
    "\n",
    "print('{} Loss: {:.4f} Acc: {:.4f}'.format(phase, epoch_loss, epoch_acc))\n",
    "\n",
    "\n",
    "# # deep copy the model\n",
    "# if phase == 'val' and epoch_acc > best_acc:\n",
    "#     best_acc = epoch_acc\n",
    "#     best_model_wts = copy.deepcopy(model.state_dict())\n",
    "#     torch.save(model.state_dict(), savename+'.pt')\n",
    "# if phase == 'val':\n",
    "#     val_acc_history.append(epoch_acc)"
   ]
  },
  {
   "cell_type": "code",
   "execution_count": 82,
   "metadata": {},
   "outputs": [],
   "source": [
    "def flatten(t):\n",
    "    return [float(item) for sublist in t for item in sublist]"
   ]
  },
  {
   "cell_type": "code",
   "execution_count": 86,
   "metadata": {},
   "outputs": [],
   "source": [
    "y = flatten(y)"
   ]
  },
  {
   "cell_type": "code",
   "execution_count": 87,
   "metadata": {},
   "outputs": [],
   "source": [
    "y_pred_1 = flatten(y_pred_1)"
   ]
  },
  {
   "cell_type": "code",
   "execution_count": 88,
   "metadata": {},
   "outputs": [
    {
     "data": {
      "text/plain": [
       "0.9635376813092809"
      ]
     },
     "execution_count": 88,
     "metadata": {},
     "output_type": "execute_result"
    }
   ],
   "source": [
    "from sklearn.metrics import roc_auc_score\n",
    "roc_auc_score(y, y_pred_1)"
   ]
  },
  {
   "cell_type": "code",
   "execution_count": 89,
   "metadata": {},
   "outputs": [
    {
     "data": {
      "image/png": "[encoded data removed]",
      "text/plain": [
       "<Figure size 432x288 with 1 Axes>"
      ]
     },
     "metadata": {
      "needs_background": "light"
     },
     "output_type": "display_data"
    }
   ],
   "source": [
    "import sklearn.metrics as metrics\n",
    "\n",
    "preds = y_pred_1\n",
    "fpr, tpr, threshold = metrics.roc_curve(y, preds)\n",
    "roc_auc = metrics.auc(fpr, tpr)\n",
    "\n",
    "# method I: plt\n",
    "import matplotlib.pyplot as plt\n",
    "plt.title('Receiver Operating Characteristic')\n",
    "plt.plot(fpr, tpr, 'b', label = 'AUC = %0.2f' % roc_auc)\n",
    "plt.legend(loc = 'lower right')\n",
    "plt.plot([0, 1], [0, 1],'r--')\n",
    "plt.xlim([0, 1])\n",
    "plt.ylim([0, 1])\n",
    "plt.ylabel('True Positive Rate')\n",
    "plt.xlabel('False Positive Rate')\n",
    "plt.savefig('roc_auc.pdf')\n",
    "plt.show()\n"
   ]
  },
  {
   "cell_type": "markdown",
   "metadata": {},
   "source": [
    "## Приемлимо для обучения за 3 минуты"
   ]
  },
  {
   "cell_type": "code",
   "execution_count": 90,
   "metadata": {},
   "outputs": [
    {
     "name": "stdout",
     "output_type": "stream",
     "text": [
      "absl-py==0.15.0\r\n",
      "adversarial-robustness-toolbox==1.5.0\r\n",
      "alabaster==0.7.12\r\n",
      "apex==0.1\r\n",
      "appdirs==1.4.4\r\n",
      "asn1crypto==0.24.0\r\n",
      "astunparse==1.6.3\r\n",
      "atomicwrites==1.3.0\r\n",
      "attrs==19.1.0\r\n",
      "audioread==2.1.8\r\n",
      "Babel==2.7.0\r\n",
      "backcall==0.1.0\r\n",
      "backpack-for-pytorch==1.3.0\r\n",
      "beautifulsoup4==4.7.1\r\n",
      "black==19.10b0\r\n",
      "bleach==3.1.0\r\n",
      "blessings==1.7\r\n",
      "boto3==1.9.185\r\n",
      "botocore==1.12.185\r\n",
      "cached-property==1.5.2\r\n",
      "cachetools==4.2.4\r\n",
      "certifi==2019.6.16\r\n",
      "cffi==1.12.3\r\n",
      "cfgv==3.3.1\r\n",
      "chardet==3.0.4\r\n",
      "charset-normalizer==2.0.9\r\n",
      "clang==5.0\r\n",
      "Click==7.0\r\n",
      "cma==3.1.0\r\n",
      "codecov==2.0.15\r\n",
      "conda==4.7.5\r\n",
      "conda-build==3.18.5\r\n",
      "conda-package-handling==1.3.10\r\n",
      "coverage==4.5.3\r\n",
      "cryptography==2.7\r\n",
      "cycler==0.10.0\r\n",
      "cymem==2.0.2\r\n",
      "Cython==0.28.4\r\n",
      "cytoolz==0.9.0.1\r\n",
      "dataclasses==0.8\r\n",
      "DataProperty==0.43.1\r\n",
      "decorator==4.4.0\r\n",
      "defusedxml==0.6.0\r\n",
      "dill==0.2.9\r\n",
      "distlib==0.3.4\r\n",
      "docutils==0.14\r\n",
      "eagerpy==0.29.0\r\n",
      "einops==0.3.2\r\n",
      "entrypoints==0.3\r\n",
      "ffmpeg==1.4\r\n",
      "ffmpeg-python==0.2.0\r\n",
      "ffprobe==0.5\r\n",
      "filelock==3.2.0\r\n",
      "flake8==3.7.9\r\n",
      "Flask==1.1.1\r\n",
      "foolbox==3.3.1\r\n",
      "future==0.17.1\r\n",
      "gdown==4.2.0\r\n",
      "gitdb==4.0.9\r\n",
      "GitPython==3.1.20\r\n",
      "glob2==0.6\r\n",
      "google-auth==1.35.0\r\n",
      "google-auth-oauthlib==0.4.6\r\n",
      "google-pasta==0.2.0\r\n",
      "gpustat==0.6.0\r\n",
      "grpcio==1.43.0\r\n",
      "h5py==3.1.0\r\n",
      "html2text==2018.1.9\r\n",
      "huggingface-hub==0.2.1\r\n",
      "HyperPyYAML==1.0.0\r\n",
      "hypothesis==4.27.0\r\n",
      "identify==2.4.2\r\n",
      "idna==2.8\r\n",
      "imageio==2.5.0\r\n",
      "imagesize==1.1.0\r\n",
      "importlib-metadata==0.18\r\n",
      "importlib-resources==5.2.3\r\n",
      "inflect==2.1.0\r\n",
      "ipdb==0.12\r\n",
      "ipykernel==5.1.1\r\n",
      "ipython==7.5.0\r\n",
      "ipython-genutils==0.2.0\r\n",
      "ipywidgets==7.6.5\r\n",
      "itsdangerous==1.1.0\r\n",
      "jedi==0.13.3\r\n",
      "Jinja2==2.10.1\r\n",
      "jmespath==0.9.4\r\n",
      "joblib==1.1.0\r\n",
      "json5==0.8.5\r\n",
      "jsonschema==3.0.1\r\n",
      "jupyter-client==5.3.1\r\n",
      "jupyter-core==4.5.0\r\n",
      "jupyter-tensorboard==0.1.10\r\n",
      "jupyterlab==1.0.2\r\n",
      "jupyterlab-server==1.0.0\r\n",
      "jupyterlab-widgets==1.0.2\r\n",
      "jupytext==1.1.7\r\n",
      "kaggle==1.5.12\r\n",
      "keras==2.6.0\r\n",
      "Keras-Preprocessing==1.1.2\r\n",
      "kiwisolver==1.1.0\r\n",
      "kornia==0.6.1\r\n",
      "libarchive-c==2.8\r\n",
      "librosa==0.6.3\r\n",
      "lief==0.9.0\r\n",
      "llvmlite==0.32.1\r\n",
      "lmdb==0.95\r\n",
      "Markdown==3.1.1\r\n",
      "MarkupSafe==1.1.1\r\n",
      "maskrcnn-benchmark==0.1\r\n",
      "matplotlib==3.0.3\r\n",
      "mbstrdecoder==0.8.1\r\n",
      "mccabe==0.6.1\r\n",
      "mistune==0.8.4\r\n",
      "mlperf-compliance==0.0.10\r\n",
      "mock==3.0.5\r\n",
      "more-itertools==7.1.0\r\n",
      "msgfy==0.0.7\r\n",
      "msgpack==0.6.1\r\n",
      "msgpack-numpy==0.4.3.2\r\n",
      "murmurhash==1.0.2\r\n",
      "mypy==0.920\r\n",
      "mypy-extensions==0.4.3\r\n",
      "nbconvert==5.5.0\r\n",
      "nbformat==4.4.0\r\n",
      "networkx==2.0\r\n",
      "nltk==3.4.4\r\n",
      "nodeenv==1.6.0\r\n",
      "notebook==5.7.8\r\n",
      "numba==0.38.0\r\n",
      "numpy==1.19.5\r\n",
      "nvidia-dali==0.11.0\r\n",
      "nvidia-ml-py3==7.352.0\r\n",
      "oauthlib==3.1.1\r\n",
      "onnx==1.5.0\r\n",
      "opencv-python==3.4.0.12\r\n",
      "opt-einsum==3.3.0\r\n",
      "packaging==20.9\r\n",
      "pandarallel==1.5.4\r\n",
      "pandas==1.1.5\r\n",
      "pandocfilters==1.4.2\r\n",
      "parso==0.4.0\r\n",
      "pathspec==0.9.0\r\n",
      "pathvalidate==0.29.0\r\n",
      "patsy==0.5.2\r\n",
      "pexpect==4.7.0\r\n",
      "pickleshare==0.7.5\r\n",
      "Pillow==8.3.2\r\n",
      "Pillow-SIMD==5.3.0.post1\r\n",
      "pkginfo==1.5.0.1\r\n",
      "plac==0.9.6\r\n",
      "platformdirs==2.4.0\r\n",
      "pluggy==0.12.0\r\n",
      "pre-commit==2.16.0\r\n",
      "preshed==2.0.1\r\n",
      "prettytable==2.2.1\r\n",
      "progressbar==2.5\r\n",
      "prometheus-client==0.7.1\r\n",
      "prompt-toolkit==2.0.9\r\n",
      "protobuf==3.19.1\r\n",
      "psutil==5.6.2\r\n",
      "ptyprocess==0.6.0\r\n",
      "py==1.8.0\r\n",
      "pyasn1==0.4.8\r\n",
      "pyasn1-modules==0.2.8\r\n",
      "pybind11==2.3.0\r\n",
      "pycocotools==2.0+nv0.3.1\r\n",
      "pycodestyle==2.5.0\r\n",
      "pycosat==0.6.3\r\n",
      "pycparser==2.19\r\n",
      "pydot==1.4.1\r\n",
      "pydub==0.25.1\r\n",
      "pyflakes==2.1.1\r\n",
      "Pygments==2.4.2\r\n",
      "pyOpenSSL==19.0.0\r\n",
      "pyparsing==2.4.0\r\n",
      "pyrsistent==0.15.3\r\n",
      "PySocks==1.7.0\r\n",
      "pytablewriter==0.46.1\r\n",
      "pytest==5.4.1\r\n",
      "pytest-cov==2.7.1\r\n",
      "pytest-pythonpath==0.7.3\r\n",
      "python-dateutil==2.8.1\r\n",
      "python-nvd3==0.15.0\r\n",
      "python-slugify==3.0.2\r\n",
      "pytz==2019.1\r\n",
      "PyWavelets==1.0.3\r\n",
      "PyYAML==5.1\r\n",
      "pyzmq==18.0.2\r\n",
      "regex==2018.1.10\r\n",
      "requests==2.26.0\r\n",
      "requests-oauthlib==1.3.0\r\n",
      "resampy==0.2.1\r\n",
      "revtok==0.0.3\r\n",
      "rsa==4.8\r\n",
      "ruamel-yaml==0.15.46\r\n",
      "ruamel.yaml==0.17.20\r\n",
      "ruamel.yaml.clib==0.2.6\r\n",
      "s3transfer==0.2.1\r\n",
      "sacrebleu==1.2.10\r\n",
      "sacremoses==0.0.19\r\n",
      "scikit-image==0.15.0\r\n",
      "scikit-learn==0.24.2\r\n",
      "scipy==1.5.4\r\n",
      "seaborn==0.11.0\r\n",
      "Send2Trash==1.5.0\r\n",
      "sentencepiece==0.1.96\r\n",
      "setGPU==0.0.7\r\n",
      "setproctitle==1.1.10\r\n",
      "simplejson==3.17.5\r\n",
      "six==1.15.0\r\n",
      "sklearn-rvm==0.1.1\r\n",
      "smmap==5.0.0\r\n",
      "snowballstemmer==1.9.0\r\n",
      "SoundFile==0.10.3.post1\r\n",
      "soupsieve==1.8\r\n",
      "spacy==2.0.16\r\n",
      "Sphinx==2.1.2\r\n",
      "sphinx-rtd-theme==0.4.3\r\n",
      "sphinxcontrib-applehelp==1.0.1\r\n",
      "sphinxcontrib-devhelp==1.0.1\r\n",
      "sphinxcontrib-htmlhelp==1.0.2\r\n",
      "sphinxcontrib-jsmath==1.0.1\r\n",
      "sphinxcontrib-qthelp==1.0.2\r\n",
      "sphinxcontrib-serializinghtml==1.1.3\r\n",
      "SSD==0.1\r\n",
      "statsmodels==0.8.0\r\n",
      "subword-nmt==0.3.3\r\n",
      "tabledata==0.9.1\r\n",
      "tabulate==0.8.3\r\n",
      "tensorboard==2.6.0\r\n",
      "tensorboard-data-server==0.6.1\r\n",
      "tensorboard-plugin-wit==1.8.0\r\n",
      "tensorboardX==2.4\r\n",
      "tensorflow-estimator==2.6.0\r\n",
      "termcolor==1.1.0\r\n",
      "terminado==0.8.2\r\n",
      "testfixtures==6.10.0\r\n",
      "testpath==0.4.2\r\n",
      "text-unidecode==1.2\r\n",
      "thinc==6.12.1\r\n",
      "threadpoolctl==3.0.0\r\n",
      "toml==0.10.2\r\n",
      "tomli==1.2.3\r\n",
      "toolz==0.9.0\r\n",
      "torch==1.9.1\r\n",
      "torchaudio==0.9.1\r\n",
      "torchsummary==1.5.1\r\n",
      "torchtext==0.4.0\r\n",
      "torchvision==0.11.1\r\n",
      "tornado==6.0.3\r\n",
      "tqdm==4.62.3\r\n",
      "traitlets==4.3.2\r\n",
      "typed-ast==1.5.1\r\n",
      "typepy==0.6.0\r\n",
      "typing==3.7.4\r\n",
      "typing-extensions==4.0.1\r\n",
      "ujson==1.35\r\n",
      "Unidecode==1.1.1\r\n",
      "urllib3==1.24.2\r\n",
      "virtualenv==20.13.0\r\n",
      "wcwidth==0.1.7\r\n",
      "webencodings==0.5.1\r\n",
      "Werkzeug==0.15.4\r\n",
      "widgetsnbextension==3.5.1\r\n",
      "wrapt==1.10.11\r\n",
      "xgboost==1.5.0\r\n",
      "yacs==0.1.6\r\n",
      "yamllint==1.23.0\r\n",
      "zipp==3.1.0\r\n"
     ]
    }
   ],
   "source": [
    "!pip freeze"
   ]
  },
  {
   "cell_type": "code",
   "execution_count": 91,
   "metadata": {},
   "outputs": [
    {
     "name": "stdout",
     "output_type": "stream",
     "text": [
      "Package                        Version     \r\n",
      "------------------------------ ------------\r\n",
      "absl-py                        0.15.0      \r\n",
      "adversarial-robustness-toolbox 1.5.0       \r\n",
      "alabaster                      0.7.12      \r\n",
      "apex                           0.1         \r\n",
      "appdirs                        1.4.4       \r\n",
      "asn1crypto                     0.24.0      \r\n",
      "astunparse                     1.6.3       \r\n",
      "atomicwrites                   1.3.0       \r\n",
      "attrs                          19.1.0      \r\n",
      "audioread                      2.1.8       \r\n",
      "Babel                          2.7.0       \r\n",
      "backcall                       0.1.0       \r\n",
      "backpack-for-pytorch           1.3.0       \r\n",
      "beautifulsoup4                 4.7.1       \r\n",
      "black                          19.10b0     \r\n",
      "bleach                         3.1.0       \r\n",
      "blessings                      1.7         \r\n",
      "boto3                          1.9.185     \r\n",
      "botocore                       1.12.185    \r\n",
      "cached-property                1.5.2       \r\n",
      "cachetools                     4.2.4       \r\n",
      "certifi                        2019.6.16   \r\n",
      "cffi                           1.12.3      \r\n",
      "cfgv                           3.3.1       \r\n",
      "chardet                        3.0.4       \r\n",
      "charset-normalizer             2.0.9       \r\n",
      "clang                          5.0         \r\n",
      "Click                          7.0         \r\n",
      "cma                            3.1.0       \r\n",
      "codecov                        2.0.15      \r\n",
      "conda                          4.7.5       \r\n",
      "conda-build                    3.18.5      \r\n",
      "conda-package-handling         1.3.10      \r\n",
      "coverage                       4.5.3       \r\n",
      "cryptography                   2.7         \r\n",
      "cycler                         0.10.0      \r\n",
      "cymem                          2.0.2       \r\n",
      "Cython                         0.28.4      \r\n",
      "cytoolz                        0.9.0.1     \r\n",
      "dataclasses                    0.8         \r\n",
      "DataProperty                   0.43.1      \r\n",
      "decorator                      4.4.0       \r\n",
      "defusedxml                     0.6.0       \r\n",
      "dill                           0.2.9       \r\n",
      "distlib                        0.3.4       \r\n",
      "docutils                       0.14        \r\n",
      "eagerpy                        0.29.0      \r\n",
      "einops                         0.3.2       \r\n",
      "entrypoints                    0.3         \r\n",
      "ffmpeg                         1.4         \r\n",
      "ffmpeg-python                  0.2.0       \r\n",
      "ffprobe                        0.5         \r\n",
      "filelock                       3.2.0       \r\n",
      "flake8                         3.7.9       \r\n",
      "Flask                          1.1.1       \r\n",
      "foolbox                        3.3.1       \r\n",
      "future                         0.17.1      \r\n",
      "gdown                          4.2.0       \r\n",
      "gitdb                          4.0.9       \r\n",
      "GitPython                      3.1.20      \r\n",
      "glob2                          0.6         \r\n",
      "google-auth                    1.35.0      \r\n",
      "google-auth-oauthlib           0.4.6       \r\n",
      "google-pasta                   0.2.0       \r\n",
      "gpustat                        0.6.0       \r\n",
      "grpcio                         1.43.0      \r\n",
      "h5py                           3.1.0       \r\n",
      "html2text                      2018.1.9    \r\n",
      "huggingface-hub                0.2.1       \r\n",
      "HyperPyYAML                    1.0.0       \r\n",
      "hypothesis                     4.27.0      \r\n",
      "identify                       2.4.2       \r\n",
      "idna                           2.8         \r\n",
      "imageio                        2.5.0       \r\n",
      "imagesize                      1.1.0       \r\n",
      "importlib-metadata             0.18        \r\n",
      "importlib-resources            5.2.3       \r\n",
      "inflect                        2.1.0       \r\n",
      "ipdb                           0.12        \r\n",
      "ipykernel                      5.1.1       \r\n",
      "ipython                        7.5.0       \r\n",
      "ipython-genutils               0.2.0       \r\n",
      "ipywidgets                     7.6.5       \r\n",
      "itsdangerous                   1.1.0       \r\n",
      "jedi                           0.13.3      \r\n",
      "Jinja2                         2.10.1      \r\n",
      "jmespath                       0.9.4       \r\n",
      "joblib                         1.1.0       \r\n",
      "json5                          0.8.5       \r\n",
      "jsonschema                     3.0.1       \r\n",
      "jupyter-client                 5.3.1       \r\n",
      "jupyter-core                   4.5.0       \r\n",
      "jupyter-tensorboard            0.1.10      \r\n",
      "jupyterlab                     1.0.2       \r\n",
      "jupyterlab-server              1.0.0       \r\n",
      "jupyterlab-widgets             1.0.2       \r\n",
      "jupytext                       1.1.7       \r\n",
      "kaggle                         1.5.12      \r\n",
      "keras                          2.6.0       \r\n",
      "Keras-Preprocessing            1.1.2       \r\n",
      "kiwisolver                     1.1.0       \r\n",
      "kornia                         0.6.1       \r\n",
      "libarchive-c                   2.8         \r\n",
      "librosa                        0.6.3       \r\n",
      "lief                           0.9.0       \r\n",
      "llvmlite                       0.32.1      \r\n",
      "lmdb                           0.95        \r\n",
      "Markdown                       3.1.1       \r\n",
      "MarkupSafe                     1.1.1       \r\n",
      "maskrcnn-benchmark             0.1         \r\n",
      "matplotlib                     3.0.3       \r\n",
      "mbstrdecoder                   0.8.1       \r\n",
      "mccabe                         0.6.1       \r\n",
      "mistune                        0.8.4       \r\n",
      "mlperf-compliance              0.0.10      \r\n",
      "mock                           3.0.5       \r\n",
      "more-itertools                 7.1.0       \r\n",
      "msgfy                          0.0.7       \r\n",
      "msgpack                        0.6.1       \r\n",
      "msgpack-numpy                  0.4.3.2     \r\n",
      "murmurhash                     1.0.2       \r\n",
      "mypy                           0.920       \r\n",
      "mypy-extensions                0.4.3       \r\n",
      "nbconvert                      5.5.0       \r\n",
      "nbformat                       4.4.0       \r\n",
      "networkx                       2.0         \r\n",
      "nltk                           3.4.4       \r\n",
      "nodeenv                        1.6.0       \r\n",
      "notebook                       5.7.8       \r\n",
      "numba                          0.38.0      \r\n",
      "numpy                          1.19.5      \r\n",
      "nvidia-dali                    0.11.0      \r\n",
      "nvidia-ml-py3                  7.352.0     \r\n",
      "oauthlib                       3.1.1       \r\n",
      "onnx                           1.5.0       \r\n",
      "opencv-python                  3.4.0.12    \r\n",
      "opt-einsum                     3.3.0       \r\n",
      "packaging                      20.9        \r\n",
      "pandarallel                    1.5.4       \r\n",
      "pandas                         1.1.5       \r\n",
      "pandocfilters                  1.4.2       \r\n",
      "parso                          0.4.0       \r\n",
      "pathspec                       0.9.0       \r\n",
      "pathvalidate                   0.29.0      \r\n",
      "patsy                          0.5.2       \r\n",
      "pexpect                        4.7.0       \r\n",
      "pickleshare                    0.7.5       \r\n",
      "Pillow                         8.3.2       \r\n",
      "Pillow-SIMD                    5.3.0.post1 \r\n",
      "pip                            19.1.1      \r\n",
      "pkginfo                        1.5.0.1     \r\n",
      "plac                           0.9.6       \r\n",
      "platformdirs                   2.4.0       \r\n",
      "pluggy                         0.12.0      \r\n",
      "pre-commit                     2.16.0      \r\n",
      "preshed                        2.0.1       \r\n",
      "prettytable                    2.2.1       \r\n",
      "progressbar                    2.5         \r\n",
      "prometheus-client              0.7.1       \r\n",
      "prompt-toolkit                 2.0.9       \r\n",
      "protobuf                       3.19.1      \r\n",
      "psutil                         5.6.2       \r\n",
      "ptyprocess                     0.6.0       \r\n",
      "py                             1.8.0       \r\n",
      "pyasn1                         0.4.8       \r\n",
      "pyasn1-modules                 0.2.8       \r\n",
      "pybind11                       2.3.0       \r\n",
      "pycocotools                    2.0+nv0.3.1 \r\n",
      "pycodestyle                    2.5.0       \r\n",
      "pycosat                        0.6.3       \r\n",
      "pycparser                      2.19        \r\n",
      "pydot                          1.4.1       \r\n",
      "pydub                          0.25.1      \r\n",
      "pyflakes                       2.1.1       \r\n",
      "Pygments                       2.4.2       \r\n",
      "pyOpenSSL                      19.0.0      \r\n",
      "pyparsing                      2.4.0       \r\n",
      "pyrsistent                     0.15.3      \r\n",
      "PySocks                        1.7.0       \r\n",
      "pytablewriter                  0.46.1      \r\n",
      "pytest                         5.4.1       \r\n",
      "pytest-cov                     2.7.1       \r\n",
      "pytest-pythonpath              0.7.3       \r\n",
      "python-dateutil                2.8.1       \r\n",
      "python-nvd3                    0.15.0      \r\n",
      "python-slugify                 3.0.2       \r\n",
      "pytz                           2019.1      \r\n",
      "PyWavelets                     1.0.3       \r\n",
      "PyYAML                         5.1         \r\n",
      "pyzmq                          18.0.2      \r\n",
      "regex                          2018.1.10   \r\n",
      "requests                       2.26.0      \r\n",
      "requests-oauthlib              1.3.0       \r\n",
      "resampy                        0.2.1       \r\n",
      "revtok                         0.0.3       \r\n",
      "rsa                            4.8         \r\n",
      "ruamel-yaml                    0.15.46     \r\n",
      "ruamel.yaml                    0.17.20     \r\n",
      "ruamel.yaml.clib               0.2.6       \r\n",
      "s3transfer                     0.2.1       \r\n",
      "sacrebleu                      1.2.10      \r\n",
      "sacremoses                     0.0.19      \r\n",
      "scikit-image                   0.15.0      \r\n",
      "scikit-learn                   0.24.2      \r\n",
      "scipy                          1.5.4       \r\n",
      "seaborn                        0.11.0      \r\n",
      "Send2Trash                     1.5.0       \r\n",
      "sentencepiece                  0.1.96      \r\n",
      "setGPU                         0.0.7       \r\n",
      "setproctitle                   1.1.10      \r\n",
      "setuptools                     41.0.1      \r\n",
      "simplejson                     3.17.5      \r\n",
      "six                            1.15.0      \r\n",
      "sklearn-rvm                    0.1.1       \r\n",
      "smmap                          5.0.0       \r\n",
      "snowballstemmer                1.9.0       \r\n",
      "SoundFile                      0.10.3.post1\r\n",
      "soupsieve                      1.8         \r\n",
      "spacy                          2.0.16      \r\n",
      "Sphinx                         2.1.2       \r\n",
      "sphinx-rtd-theme               0.4.3       \r\n",
      "sphinxcontrib-applehelp        1.0.1       \r\n",
      "sphinxcontrib-devhelp          1.0.1       \r\n",
      "sphinxcontrib-htmlhelp         1.0.2       \r\n",
      "sphinxcontrib-jsmath           1.0.1       \r\n",
      "sphinxcontrib-qthelp           1.0.2       \r\n",
      "sphinxcontrib-serializinghtml  1.1.3       \r\n",
      "SSD                            0.1         \r\n",
      "statsmodels                    0.8.0       \r\n",
      "subword-nmt                    0.3.3       \r\n",
      "tabledata                      0.9.1       \r\n",
      "tabulate                       0.8.3       \r\n",
      "tensorboard                    2.6.0       \r\n",
      "tensorboard-data-server        0.6.1       \r\n",
      "tensorboard-plugin-wit         1.8.0       \r\n",
      "tensorboardX                   2.4         \r\n",
      "tensorflow-estimator           2.6.0       \r\n",
      "termcolor                      1.1.0       \r\n",
      "terminado                      0.8.2       \r\n",
      "testfixtures                   6.10.0      \r\n",
      "testpath                       0.4.2       \r\n",
      "text-unidecode                 1.2         \r\n",
      "thinc                          6.12.1      \r\n",
      "threadpoolctl                  3.0.0       \r\n",
      "toml                           0.10.2      \r\n",
      "tomli                          1.2.3       \r\n",
      "toolz                          0.9.0       \r\n",
      "torch                          1.9.1       \r\n",
      "torchaudio                     0.9.1       \r\n",
      "torchsummary                   1.5.1       \r\n",
      "torchtext                      0.4.0       \r\n",
      "torchvision                    0.11.1      \r\n",
      "tornado                        6.0.3       \r\n",
      "tqdm                           4.62.3      \r\n",
      "traitlets                      4.3.2       \r\n",
      "typed-ast                      1.5.1       \r\n",
      "typepy                         0.6.0       \r\n",
      "typing                         3.7.4       \r\n",
      "typing-extensions              4.0.1       \r\n",
      "ujson                          1.35        \r\n",
      "Unidecode                      1.1.1       \r\n",
      "urllib3                        1.24.2      \r\n",
      "virtualenv                     20.13.0     \r\n",
      "wcwidth                        0.1.7       \r\n",
      "webencodings                   0.5.1       \r\n",
      "Werkzeug                       0.15.4      \r\n",
      "wheel                          0.37.0      \r\n",
      "widgetsnbextension             3.5.1       \r\n",
      "wrapt                          1.10.11     \r\n",
      "xgboost                        1.5.0       \r\n",
      "yacs                           0.1.6       \r\n",
      "yamllint                       1.23.0      \r\n",
      "zipp                           3.1.0       \r\n"
     ]
    }
   ],
   "source": [
    "!pip list"
   ]
  },
  {
   "cell_type": "code",
   "execution_count": 92,
   "metadata": {},
   "outputs": [],
   "source": [
    "!pip freeze > requirements.txt"
   ]
  },
  {
   "cell_type": "markdown",
   "metadata": {},
   "source": [
    "# References\n",
    "* https://medium.com/analytics-vidhya/how-to-classify-sounds-using-pytorch-27c9f2d4d714\n",
    "* https://pytorch.org/tutorials/beginner/basics/data_tutorial.html\n",
    "* https://towardsdatascience.com/audio-classification-with-pytorchs-ecosystem-tools-5de2b66e640c\n",
    "* https://stackoverflow.com/questions/952914/how-to-make-a-flat-list-out-of-a-list-of-lists\n",
    "* https://stackoverflow.com/questions/25009284/how-to-plot-roc-curve-in-python"
   ]
  },
  {
   "cell_type": "code",
   "execution_count": null,
   "metadata": {},
   "outputs": [],
   "source": []
  }
 ],
 "metadata": {
  "kernelspec": {
   "display_name": "Python 3",
   "language": "python",
   "name": "python3"
  },
  "language_info": {
   "codemirror_mode": {
    "name": "ipython",
    "version": 3
   },
   "file_extension": ".py",
   "mimetype": "text/x-python",
   "name": "python",
   "nbconvert_exporter": "python",
   "pygments_lexer": "ipython3",
   "version": "3.6.8"
  }
 },
 "nbformat": 4,
 "nbformat_minor": 2
}
